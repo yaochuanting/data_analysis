{
 "cells": [
  {
   "cell_type": "markdown",
   "metadata": {},
   "source": [
    "# 创建数组对象"
   ]
  },
  {
   "cell_type": "code",
   "execution_count": 1,
   "metadata": {},
   "outputs": [],
   "source": [
    "import numpy as np"
   ]
  },
  {
   "cell_type": "markdown",
   "metadata": {},
   "source": [
    "创建一维数组"
   ]
  },
  {
   "cell_type": "code",
   "execution_count": 2,
   "metadata": {},
   "outputs": [
    {
     "name": "stdout",
     "output_type": "stream",
     "text": [
      "创建的数组为：\n",
      " [1 2 3 4]\n"
     ]
    }
   ],
   "source": [
    "arr1 = np.array([1,2,3,4])\n",
    "print('创建的数组为：\\n', arr1)"
   ]
  },
  {
   "cell_type": "markdown",
   "metadata": {},
   "source": [
    "创建二维数组"
   ]
  },
  {
   "cell_type": "code",
   "execution_count": 3,
   "metadata": {},
   "outputs": [
    {
     "name": "stdout",
     "output_type": "stream",
     "text": [
      "创建的二维数组：\n",
      " [[ 1  2  3  4]\n",
      " [ 4  5  6  7]\n",
      " [ 7  8  9 10]]\n"
     ]
    }
   ],
   "source": [
    "arr2 = np.array([[1,2,3,4], [4,5,6,7], [7,8,9,10]])\n",
    "print('创建的二维数组：\\n', arr2)"
   ]
  },
  {
   "cell_type": "code",
   "execution_count": 4,
   "metadata": {},
   "outputs": [
    {
     "name": "stdout",
     "output_type": "stream",
     "text": [
      "数组维度为： (3, 4)\n"
     ]
    }
   ],
   "source": [
    "print('数组维度为：', arr2.shape)"
   ]
  },
  {
   "cell_type": "code",
   "execution_count": 5,
   "metadata": {},
   "outputs": [
    {
     "name": "stdout",
     "output_type": "stream",
     "text": [
      "数组类型为： int32\n"
     ]
    }
   ],
   "source": [
    "print('数组类型为：', arr2.dtype)"
   ]
  },
  {
   "cell_type": "code",
   "execution_count": 6,
   "metadata": {},
   "outputs": [
    {
     "name": "stdout",
     "output_type": "stream",
     "text": [
      "数组元素个数为： 12\n"
     ]
    }
   ],
   "source": [
    "print('数组元素个数为：', arr2.size)"
   ]
  },
  {
   "cell_type": "code",
   "execution_count": 7,
   "metadata": {},
   "outputs": [
    {
     "name": "stdout",
     "output_type": "stream",
     "text": [
      "数组每个元素大小为： 4\n"
     ]
    }
   ],
   "source": [
    "print('数组每个元素大小为：', arr2.itemsize)"
   ]
  },
  {
   "cell_type": "markdown",
   "metadata": {},
   "source": [
    "修改数组的shape属性"
   ]
  },
  {
   "cell_type": "code",
   "execution_count": 8,
   "metadata": {},
   "outputs": [
    {
     "name": "stdout",
     "output_type": "stream",
     "text": [
      "重新设置shape后的arr2是： [[ 1  2  3]\n",
      " [ 4  4  5]\n",
      " [ 6  7  7]\n",
      " [ 8  9 10]]\n"
     ]
    }
   ],
   "source": [
    "arr2.shape = 4,3\n",
    "print('重新设置shape后的arr2是：', arr2)"
   ]
  },
  {
   "cell_type": "markdown",
   "metadata": {},
   "source": [
    "arange 函数类似于 Python 自带的函数 range，通过指定开始值、终值和步长来创建一维数组，创建的数组**不含终值**。"
   ]
  },
  {
   "cell_type": "code",
   "execution_count": 9,
   "metadata": {},
   "outputs": [
    {
     "name": "stdout",
     "output_type": "stream",
     "text": [
      "使用arange函数创建的数组为：\n",
      " [0.  0.1 0.2 0.3 0.4 0.5 0.6 0.7 0.8 0.9]\n"
     ]
    }
   ],
   "source": [
    "print('使用arange函数创建的数组为：\\n', np.arange(0,1,0.1))"
   ]
  },
  {
   "cell_type": "markdown",
   "metadata": {},
   "source": [
    "linspace函数通过指定开始值、终值和元素个数来创建一维数组，默认设置**包括终值**，这一点需要和arange函数区分。"
   ]
  },
  {
   "cell_type": "code",
   "execution_count": 10,
   "metadata": {},
   "outputs": [
    {
     "name": "stdout",
     "output_type": "stream",
     "text": [
      "使用linspace函数创建的数组为： [0.         0.09090909 0.18181818 0.27272727 0.36363636 0.45454545\n",
      " 0.54545455 0.63636364 0.72727273 0.81818182 0.90909091 1.        ]\n"
     ]
    }
   ],
   "source": [
    "print('使用linspace函数创建的数组为：', np.linspace(0,1,12))"
   ]
  },
  {
   "cell_type": "markdown",
   "metadata": {},
   "source": [
    "logspace函数和linspace函数类似，它创建的是等比数列."
   ]
  },
  {
   "cell_type": "markdown",
   "metadata": {},
   "source": [
    "生成1（10^0）～100（10^2）的20个元素的等比数列:"
   ]
  },
  {
   "cell_type": "code",
   "execution_count": 12,
   "metadata": {},
   "outputs": [
    {
     "name": "stdout",
     "output_type": "stream",
     "text": [
      "使用logspace函数创建的数列为：\n",
      " [  1.           1.27427499   1.62377674   2.06913808   2.6366509\n",
      "   3.35981829   4.2813324    5.45559478   6.95192796   8.8586679\n",
      "  11.28837892  14.38449888  18.32980711  23.35721469  29.76351442\n",
      "  37.92690191  48.32930239  61.58482111  78.47599704 100.        ]\n"
     ]
    }
   ],
   "source": [
    "print('使用logspace函数创建的数列为：\\n', np.logspace(0,2,20))"
   ]
  },
  {
   "cell_type": "markdown",
   "metadata": {},
   "source": [
    "zeros函数用来创建值全部为0的数组，即创建的数组值全部填充为0。"
   ]
  },
  {
   "cell_type": "code",
   "execution_count": 13,
   "metadata": {},
   "outputs": [
    {
     "name": "stdout",
     "output_type": "stream",
     "text": [
      "使用zeros函数创建的数组为：\n",
      " [[0. 0. 0.]\n",
      " [0. 0. 0.]]\n"
     ]
    }
   ],
   "source": [
    "print('使用zeros函数创建的数组为：\\n', np.zeros((2,3)))"
   ]
  },
  {
   "cell_type": "markdown",
   "metadata": {},
   "source": [
    "eye函数用来生成主对角线上的元素为1，其他的元素为0的数组，类似单位矩阵。"
   ]
  },
  {
   "cell_type": "code",
   "execution_count": 14,
   "metadata": {},
   "outputs": [
    {
     "name": "stdout",
     "output_type": "stream",
     "text": [
      "使用eye函数创建的数组为：\n",
      " [[1. 0. 0.]\n",
      " [0. 1. 0.]\n",
      " [0. 0. 1.]]\n"
     ]
    }
   ],
   "source": [
    "print('使用eye函数创建的数组为：\\n', np.eye(3))"
   ]
  },
  {
   "cell_type": "markdown",
   "metadata": {},
   "source": [
    "diag 函数创建类似对角的数组，即除对角线以外的其他元素都为 0，对角线上的元素可以是0或其他值。"
   ]
  },
  {
   "cell_type": "code",
   "execution_count": 17,
   "metadata": {},
   "outputs": [
    {
     "name": "stdout",
     "output_type": "stream",
     "text": [
      "使用diag函数创建的数组为：\n",
      " [[1 0 0 0]\n",
      " [0 2 0 0]\n",
      " [0 0 3 0]\n",
      " [0 0 0 4]]\n"
     ]
    }
   ],
   "source": [
    "print('使用diag函数创建的数组为：\\n', np.diag([1,2,3,4]))"
   ]
  },
  {
   "cell_type": "markdown",
   "metadata": {},
   "source": [
    "ones函数用来创建元素全部为1的数组，即创建的数组元素全部填充为1。"
   ]
  },
  {
   "cell_type": "code",
   "execution_count": 18,
   "metadata": {},
   "outputs": [
    {
     "name": "stdout",
     "output_type": "stream",
     "text": [
      "使用ones函数创建的数组为：\n",
      " [[1. 1. 1.]\n",
      " [1. 1. 1.]\n",
      " [1. 1. 1.]\n",
      " [1. 1. 1.]\n",
      " [1. 1. 1.]]\n"
     ]
    }
   ],
   "source": [
    "print('使用ones函数创建的数组为：\\n', np.ones((5,3)))"
   ]
  },
  {
   "cell_type": "markdown",
   "metadata": {},
   "source": [
    "数组数据类型转换"
   ]
  },
  {
   "cell_type": "code",
   "execution_count": 19,
   "metadata": {},
   "outputs": [
    {
     "name": "stdout",
     "output_type": "stream",
     "text": [
      "42的转换结果是： 42.0\n"
     ]
    }
   ],
   "source": [
    "# 整数转浮点\n",
    "print('42的转换结果是：', np.float64(42))"
   ]
  },
  {
   "cell_type": "code",
   "execution_count": 21,
   "metadata": {},
   "outputs": [
    {
     "name": "stdout",
     "output_type": "stream",
     "text": [
      "42.0转整型的结果是： 42\n",
      "42.6转整型的结果是： 42\n"
     ]
    }
   ],
   "source": [
    "# 浮点转整型\n",
    "print('42.0转整型的结果是：', np.int8(42.0))\n",
    "print('42.6转整型的结果是：', np.int8(42.6))"
   ]
  },
  {
   "cell_type": "code",
   "execution_count": 23,
   "metadata": {},
   "outputs": [
    {
     "name": "stdout",
     "output_type": "stream",
     "text": [
      "42转布尔型的结果是： True\n",
      "0转布尔型的结果是： False\n",
      "-1转布尔型的结果是： True\n"
     ]
    }
   ],
   "source": [
    "# 整型转布尔型\n",
    "print('42转布尔型的结果是：', np.bool(42))\n",
    "print('0转布尔型的结果是：', np.bool(0))\n",
    "print('-1转布尔型的结果是：', np.bool(-1))"
   ]
  },
  {
   "cell_type": "code",
   "execution_count": 24,
   "metadata": {},
   "outputs": [
    {
     "name": "stdout",
     "output_type": "stream",
     "text": [
      "True转换结果为： 1.0\n",
      "False转换结果为： 0.0\n"
     ]
    }
   ],
   "source": [
    "# 布尔型转浮点型\n",
    "print('True转换结果为：', np.float(True))\n",
    "print('False转换结果为：', np.float(False))"
   ]
  },
  {
   "cell_type": "markdown",
   "metadata": {},
   "source": [
    "创建一个存储餐饮企业库存信息的数据类型："
   ]
  },
  {
   "cell_type": "code",
   "execution_count": 30,
   "metadata": {},
   "outputs": [
    {
     "name": "stdout",
     "output_type": "stream",
     "text": [
      "数据类型为： [('name', '<U40'), ('numitems', '<i8'), ('price', '<f8')]\n",
      "df的数据类型为： <class 'numpy.dtype'>\n"
     ]
    }
   ],
   "source": [
    "# 这里定义一个numpy.dtype类型的数组，储存变量类型的名字（注意不是变量名），变量类型\n",
    "df = np.dtype([('name', np.str, 40), ('numitems', np.int64), ('price', np.float64)])\n",
    "print('数据类型为：', df)\n",
    "print('df的数据类型为：', type(df))"
   ]
  },
  {
   "cell_type": "markdown",
   "metadata": {},
   "source": [
    "查看数据类型："
   ]
  },
  {
   "cell_type": "code",
   "execution_count": 26,
   "metadata": {},
   "outputs": [
    {
     "name": "stdout",
     "output_type": "stream",
     "text": [
      "name的数据类型为： <U40\n",
      "name的数据类型为： <U40\n"
     ]
    }
   ],
   "source": [
    "print('name的数据类型为：', df['name'])\n",
    "print('name的数据类型为：', np.dtype(df['name']))"
   ]
  },
  {
   "cell_type": "markdown",
   "metadata": {},
   "source": [
    "在使用array函数创建数组时，数组的数据类型默认是浮点型。自定义数组数据，则可以预先指定数据类型。"
   ]
  },
  {
   "cell_type": "code",
   "execution_count": 32,
   "metadata": {},
   "outputs": [
    {
     "name": "stdout",
     "output_type": "stream",
     "text": [
      "自定义数据为：\n",
      " [('tomatoes', 42, 4.14) ('cabbages', 13, 1.72)]\n"
     ]
    }
   ],
   "source": [
    "itemz = np.array([('tomatoes',42,4.14), ('cabbages',13,1.72)], dtype=df)\n",
    "print('自定义数据为：\\n', itemz)"
   ]
  },
  {
   "cell_type": "markdown",
   "metadata": {},
   "source": [
    "# 生成随机数"
   ]
  },
  {
   "cell_type": "markdown",
   "metadata": {},
   "source": [
    "random函数是最常见的生成随机数的方法。"
   ]
  },
  {
   "cell_type": "code",
   "execution_count": 34,
   "metadata": {},
   "outputs": [
    {
     "name": "stdout",
     "output_type": "stream",
     "text": [
      "生成的随机数组为：\n",
      " [0.53512461 0.70808258 0.17500974 0.39384188 0.81008378 0.87728734\n",
      " 0.10078651 0.37779419 0.24296355 0.65500501 0.15293905 0.63945218\n",
      " 0.72300847 0.87863774 0.23631927 0.43383814 0.73151832 0.58080024\n",
      " 0.86122521 0.25099191 0.47681461 0.10711493 0.91606302 0.07582022\n",
      " 0.21805276 0.68986322 0.16384281 0.55815556 0.38780069 0.12949231\n",
      " 0.38955547 0.48060031 0.49595465 0.20446952 0.40123189 0.77235602\n",
      " 0.40120768 0.64734053 0.93929258 0.85115919 0.77238734 0.96099892\n",
      " 0.30847099 0.37192121 0.02858069 0.28056454 0.28399136 0.6209102\n",
      " 0.20276012 0.81082665 0.03389028 0.03339573 0.14301495 0.65455465\n",
      " 0.75005175 0.8731061  0.9700825  0.63498977 0.4085396  0.31472134\n",
      " 0.38702648 0.80885039 0.76659699 0.58019705 0.62913639 0.06157813\n",
      " 0.36704494 0.61717578 0.5953275  0.10353126 0.09368567 0.56298403\n",
      " 0.75469228 0.463341   0.70849601 0.46740867 0.16768959 0.33967017\n",
      " 0.84003959 0.55770239 0.84893678 0.99160102 0.71951242 0.27624433\n",
      " 0.94599712 0.66986274 0.12924602 0.11784818 0.11416946 0.26347317\n",
      " 0.24717409 0.30213067 0.26965463 0.47088403 0.0685198  0.90992117\n",
      " 0.73882841 0.47637102 0.30367459 0.14819343]\n"
     ]
    }
   ],
   "source": [
    "print('生成的随机数组为：\\n', np.random.random(100))"
   ]
  },
  {
   "cell_type": "markdown",
   "metadata": {},
   "source": [
    "rand函数可以生成服从均匀分布的随机数。"
   ]
  },
  {
   "cell_type": "code",
   "execution_count": 35,
   "metadata": {},
   "outputs": [
    {
     "name": "stdout",
     "output_type": "stream",
     "text": [
      "生成的随机数组为：\n",
      " [[0.27629335 0.18097882 0.46418704 0.44805269 0.91703815]\n",
      " [0.03907754 0.80143607 0.23375211 0.66768166 0.20202331]\n",
      " [0.84388778 0.90460068 0.7009211  0.28264283 0.31065263]\n",
      " [0.05608771 0.2202155  0.07643711 0.52767877 0.08090679]\n",
      " [0.90262315 0.50182762 0.98334533 0.64393528 0.75926621]\n",
      " [0.06472867 0.62673117 0.38682385 0.66780839 0.88221153]\n",
      " [0.79339615 0.60474125 0.02813947 0.31512082 0.91816814]\n",
      " [0.11955316 0.69572146 0.20472403 0.90720693 0.93108466]\n",
      " [0.29494944 0.12210327 0.54939175 0.75747993 0.49445401]\n",
      " [0.0033159  0.88486848 0.30475325 0.96804736 0.496968  ]]\n"
     ]
    }
   ],
   "source": [
    "print('生成的随机数组为：\\n', np.random.rand(10,5))"
   ]
  },
  {
   "cell_type": "markdown",
   "metadata": {},
   "source": [
    "randn函数可以生成服从正态分布的随机数。"
   ]
  },
  {
   "cell_type": "code",
   "execution_count": 37,
   "metadata": {},
   "outputs": [
    {
     "name": "stdout",
     "output_type": "stream",
     "text": [
      "生成的随机数组为： [[ 0.49492421  1.6982712  -0.89235274  0.51603011  1.29650734]\n",
      " [ 2.91485672 -0.30309006  1.36789507 -0.13785396  1.83574932]\n",
      " [-0.92578284 -1.43379814 -1.65148887  1.07673099  0.12398204]\n",
      " [ 0.24033456  0.52543983  0.57788935  0.30368441  1.64798516]\n",
      " [-1.11257293  0.14298487 -0.34874862  1.39823967 -0.43908693]\n",
      " [ 1.6884775  -1.57157071  0.38288867 -0.97909281  0.68918168]\n",
      " [ 0.75547217  0.31920862 -0.39256072 -0.64559727 -0.05912932]\n",
      " [ 0.54380624 -1.12970282  0.98335623  0.59434367 -0.13896713]\n",
      " [-0.18885582 -0.08458896 -0.96299489  1.28005493  0.13736475]\n",
      " [-0.37867905 -0.4818016  -1.78226549  0.28458429  0.51108162]]\n"
     ]
    }
   ],
   "source": [
    "print('生成的随机数组为：', np.random.randn(10,5))"
   ]
  },
  {
   "cell_type": "markdown",
   "metadata": {},
   "source": [
    "randint函数可以生成给定上下限范围的随机数。格式：numpy.random.randint(low, high=None, size=None,dtype='l')。其中，low为最小值，high为最大值，size为数组的shape。"
   ]
  },
  {
   "cell_type": "code",
   "execution_count": 38,
   "metadata": {},
   "outputs": [
    {
     "name": "stdout",
     "output_type": "stream",
     "text": [
      "生成的随机数组为：\n",
      " [[3 1 3 8 9]\n",
      " [5 5 1 5 8]]\n"
     ]
    }
   ],
   "source": [
    "print('生成的随机数组为：\\n', np.random.randint(1,10,size=[2,5]))"
   ]
  },
  {
   "cell_type": "markdown",
   "metadata": {},
   "source": [
    "# 通过索引访问数组"
   ]
  },
  {
   "cell_type": "markdown",
   "metadata": {},
   "source": [
    "一维数组的索引方法很简单，与Python中的list的索引方法一致。"
   ]
  },
  {
   "cell_type": "code",
   "execution_count": 39,
   "metadata": {},
   "outputs": [
    {
     "name": "stdout",
     "output_type": "stream",
     "text": [
      "数组为：\n",
      " [0 1 2 3 4 5 6 7 8 9]\n",
      "索引结果为： 5\n"
     ]
    }
   ],
   "source": [
    "arr = np.arange(10)\n",
    "print('数组为：\\n', arr)\n",
    "# 用整数作为下标可获取数组中的某个元素\n",
    "print('索引结果为：', arr[5])"
   ]
  },
  {
   "cell_type": "code",
   "execution_count": 40,
   "metadata": {},
   "outputs": [
    {
     "name": "stdout",
     "output_type": "stream",
     "text": [
      "索引结果为： [3 4]\n"
     ]
    }
   ],
   "source": [
    "# 范围用作下标，获取数组切片，含arr[3]，不含arr[5]\n",
    "print('索引结果为：', arr[3:5])"
   ]
  },
  {
   "cell_type": "code",
   "execution_count": 41,
   "metadata": {},
   "outputs": [
    {
     "name": "stdout",
     "output_type": "stream",
     "text": [
      "索引结果为： [0 1 2 3 4]\n"
     ]
    }
   ],
   "source": [
    "# 省略开始下标从头开始取\n",
    "print('索引结果为：', arr[:5])"
   ]
  },
  {
   "cell_type": "code",
   "execution_count": 42,
   "metadata": {},
   "outputs": [
    {
     "name": "stdout",
     "output_type": "stream",
     "text": [
      "索引结果为： 9\n"
     ]
    }
   ],
   "source": [
    "# 下标使用负数，-1表示从数组最后往前数第一个元素\n",
    "print('索引结果为：', arr[-1])"
   ]
  },
  {
   "cell_type": "code",
   "execution_count": 45,
   "metadata": {},
   "outputs": [
    {
     "name": "stdout",
     "output_type": "stream",
     "text": [
      "修改元素后的数组为：\n",
      " [  0   1   2 100 101   5   6   7   8   9]\n"
     ]
    }
   ],
   "source": [
    "# 下标还可以用来修改元素的值\n",
    "arr[3:5] = [100,101]\n",
    "print('修改元素后的数组为：\\n', arr)"
   ]
  },
  {
   "cell_type": "code",
   "execution_count": 46,
   "metadata": {},
   "outputs": [
    {
     "name": "stdout",
     "output_type": "stream",
     "text": [
      "索引结果为： [  1 100   5   7]\n"
     ]
    }
   ],
   "source": [
    "# 范围中的第三个参数表示步长\n",
    "print('索引结果为：', arr[1:-1:2])"
   ]
  },
  {
   "cell_type": "code",
   "execution_count": 47,
   "metadata": {},
   "outputs": [
    {
     "name": "stdout",
     "output_type": "stream",
     "text": [
      "索引结果为： [  5 101 100   2]\n"
     ]
    }
   ],
   "source": [
    "# 步长为负数时，开始下标必须大于结束下标\n",
    "print('索引结果为：', arr[5:1:-1])"
   ]
  },
  {
   "cell_type": "markdown",
   "metadata": {},
   "source": [
    "多维数组的每一个维度都有一个索引，各个维度的索引之间用逗号隔开。"
   ]
  },
  {
   "cell_type": "code",
   "execution_count": 48,
   "metadata": {},
   "outputs": [
    {
     "name": "stdout",
     "output_type": "stream",
     "text": [
      "创建的二维数组为：\n",
      " [[ 1  2  3  4  5]\n",
      " [ 4  5  6  7  8]\n",
      " [ 7  8  9 10 11]]\n"
     ]
    }
   ],
   "source": [
    "arr = np.array([[1,2,3,4,5],[4,5,6,7,8],[7,8,9,10,11]])\n",
    "print('创建的二维数组为：\\n', arr)"
   ]
  },
  {
   "cell_type": "markdown",
   "metadata": {},
   "source": [
    "多维数组同样也可以使用整数序列和布尔值索引进行访问:"
   ]
  },
  {
   "cell_type": "code",
   "execution_count": 49,
   "metadata": {},
   "outputs": [
    {
     "name": "stdout",
     "output_type": "stream",
     "text": [
      "索引结果为： [ 2  6 10]\n"
     ]
    },
    {
     "name": "stderr",
     "output_type": "stream",
     "text": [
      "D:\\anaconda3.7\\path\\lib\\site-packages\\ipykernel_launcher.py:2: FutureWarning: Using a non-tuple sequence for multidimensional indexing is deprecated; use `arr[tuple(seq)]` instead of `arr[seq]`. In the future this will be interpreted as an array index, `arr[np.array(seq)]`, which will result either in an error or a different result.\n",
      "  \n"
     ]
    }
   ],
   "source": [
    "# 从两个序列的对应位置取出两个整数组成下标：arr[0,1],arr[1,2],arr[2,3]\n",
    "print('索引结果为：', arr[[(0,1,2),(1,2,3)]])"
   ]
  },
  {
   "cell_type": "code",
   "execution_count": 51,
   "metadata": {},
   "outputs": [
    {
     "name": "stdout",
     "output_type": "stream",
     "text": [
      "索引结果为：\n",
      " [[ 4  6  7]\n",
      " [ 7  9 10]]\n"
     ]
    }
   ],
   "source": [
    "# 索引第2、3行中第0、2、3列的元素\n",
    "print('索引结果为：\\n', arr[1:,(0,2,3)])"
   ]
  },
  {
   "cell_type": "markdown",
   "metadata": {},
   "source": [
    "# 变换数组形态"
   ]
  },
  {
   "cell_type": "markdown",
   "metadata": {},
   "source": [
    "在NumPy中，常用reshape函数改变数组的“形状”，也就是改变数组的维度。其参数为一个正整数元组，分别指定数组在每个维度上的大小。"
   ]
  },
  {
   "cell_type": "markdown",
   "metadata": {},
   "source": [
    "reshape函数在改变原始数据的形状的同时不改变原始数据的值。如果指定的维度和数组的元素数目不吻合，则函数将抛出异常"
   ]
  },
  {
   "cell_type": "code",
   "execution_count": 54,
   "metadata": {},
   "outputs": [
    {
     "name": "stdout",
     "output_type": "stream",
     "text": [
      "创建的一维数组为：\n",
      " [ 0  1  2  3  4  5  6  7  8  9 10 11]\n"
     ]
    }
   ],
   "source": [
    "# 创建一维数组\n",
    "arr = np.arange(12)\n",
    "print('创建的一维数组为：\\n', arr)"
   ]
  },
  {
   "cell_type": "code",
   "execution_count": 55,
   "metadata": {},
   "outputs": [
    {
     "name": "stdout",
     "output_type": "stream",
     "text": [
      "新的一维数组为：\n",
      " [[ 0  1  2  3]\n",
      " [ 4  5  6  7]\n",
      " [ 8  9 10 11]]\n"
     ]
    }
   ],
   "source": [
    "# 设置数组形状\n",
    "print('新的一维数组为：\\n', arr.reshape(3,4))"
   ]
  },
  {
   "cell_type": "code",
   "execution_count": 56,
   "metadata": {},
   "outputs": [
    {
     "name": "stdout",
     "output_type": "stream",
     "text": [
      "数组维度为： 2\n"
     ]
    }
   ],
   "source": [
    "# 查看数组维度\n",
    "print('数组维度为：', arr.reshape(3,4).ndim)"
   ]
  },
  {
   "cell_type": "markdown",
   "metadata": {},
   "source": [
    "在NumPy中，可以使用ravel函数完成数组展平工作。"
   ]
  },
  {
   "cell_type": "code",
   "execution_count": 58,
   "metadata": {},
   "outputs": [
    {
     "name": "stdout",
     "output_type": "stream",
     "text": [
      "创建的二维数组为：\n",
      " [[ 0  1  2  3]\n",
      " [ 4  5  6  7]\n",
      " [ 8  9 10 11]]\n",
      "数组展平后为：\n",
      " [ 0  1  2  3  4  5  6  7  8  9 10 11]\n"
     ]
    }
   ],
   "source": [
    "# 创建二维数组\n",
    "arr = np.arange(12).reshape(3,4)\n",
    "print('创建的二维数组为：\\n', arr)\n",
    "print('数组展平后为：\\n', arr.ravel())"
   ]
  },
  {
   "cell_type": "markdown",
   "metadata": {},
   "source": [
    "flatten函数也可以完成数组展平工作。与ravel函数的区别在于，flatten函数可以选择横向或纵向展平。"
   ]
  },
  {
   "cell_type": "code",
   "execution_count": 61,
   "metadata": {},
   "outputs": [
    {
     "name": "stdout",
     "output_type": "stream",
     "text": [
      "数组横向展平：\n",
      " [ 0  1  2  3  4  5  6  7  8  9 10 11]\n",
      "数组纵向展平：\n",
      " [ 0  4  8  1  5  9  2  6 10  3  7 11]\n"
     ]
    }
   ],
   "source": [
    "print('数组横向展平：\\n', arr.flatten())\n",
    "print('数组纵向展平：\\n', arr.flatten('F'))"
   ]
  },
  {
   "cell_type": "markdown",
   "metadata": {},
   "source": [
    "横向组合是将ndarray对象构成的元组作为参数，传给hstack函数。"
   ]
  },
  {
   "cell_type": "code",
   "execution_count": 63,
   "metadata": {},
   "outputs": [
    {
     "name": "stdout",
     "output_type": "stream",
     "text": [
      "创建的数组1为：\n",
      " [[ 0  1  2  3]\n",
      " [ 4  5  6  7]\n",
      " [ 8  9 10 11]]\n",
      "创建的数组2为：\n",
      " [[ 0  3  6  9]\n",
      " [12 15 18 21]\n",
      " [24 27 30 33]]\n",
      "横向组合： [[ 0  1  2  3  0  3  6  9]\n",
      " [ 4  5  6  7 12 15 18 21]\n",
      " [ 8  9 10 11 24 27 30 33]]\n"
     ]
    }
   ],
   "source": [
    "arr1 = np.arange(12).reshape(3,4)\n",
    "print('创建的数组1为：\\n', arr1)\n",
    "arr2 = arr1 * 3\n",
    "print('创建的数组2为：\\n', arr2)\n",
    "print('横向组合：', np.hstack((arr1,arr2)))"
   ]
  },
  {
   "cell_type": "markdown",
   "metadata": {},
   "source": [
    "纵向组合同样是将ndarray对象构成的元组作为参数，只不过传给vstack函数。"
   ]
  },
  {
   "cell_type": "code",
   "execution_count": 65,
   "metadata": {},
   "outputs": [
    {
     "name": "stdout",
     "output_type": "stream",
     "text": [
      "横向组合为： [[ 0  1  2  3]\n",
      " [ 4  5  6  7]\n",
      " [ 8  9 10 11]\n",
      " [ 0  3  6  9]\n",
      " [12 15 18 21]\n",
      " [24 27 30 33]]\n"
     ]
    }
   ],
   "source": [
    "print('横向组合为：', np.vstack((arr1,arr2)))"
   ]
  },
  {
   "cell_type": "markdown",
   "metadata": {},
   "source": [
    "concatenate函数也可以实现数组的横向组合和纵向组合，其中参数axis=1时按照横轴组合，参数axis = 0时按照纵轴组合"
   ]
  },
  {
   "cell_type": "code",
   "execution_count": 66,
   "metadata": {},
   "outputs": [
    {
     "name": "stdout",
     "output_type": "stream",
     "text": [
      "横向组合为：\n",
      " [[ 0  1  2  3  0  3  6  9]\n",
      " [ 4  5  6  7 12 15 18 21]\n",
      " [ 8  9 10 11 24 27 30 33]]\n"
     ]
    }
   ],
   "source": [
    "print('横向组合为：\\n', np.concatenate((arr1,arr2), axis=1))"
   ]
  },
  {
   "cell_type": "code",
   "execution_count": 67,
   "metadata": {},
   "outputs": [
    {
     "name": "stdout",
     "output_type": "stream",
     "text": [
      "纵向组合为：\n",
      " [[ 0  1  2  3]\n",
      " [ 4  5  6  7]\n",
      " [ 8  9 10 11]\n",
      " [ 0  3  6  9]\n",
      " [12 15 18 21]\n",
      " [24 27 30 33]]\n"
     ]
    }
   ],
   "source": [
    "print('纵向组合为：\\n', np.concatenate((arr1,arr2), axis=0))"
   ]
  },
  {
   "cell_type": "markdown",
   "metadata": {},
   "source": [
    "使用hsplit函数可以对数组进行横向分割，以ndarray对象构成的元组作为参数。"
   ]
  },
  {
   "cell_type": "code",
   "execution_count": 69,
   "metadata": {},
   "outputs": [
    {
     "name": "stdout",
     "output_type": "stream",
     "text": [
      "创建的二维数组为：\n",
      " [[ 0  1  2  3]\n",
      " [ 4  5  6  7]\n",
      " [ 8  9 10 11]\n",
      " [12 13 14 15]]\n",
      "横向分隔为：\n",
      " [array([[ 0,  1],\n",
      "       [ 4,  5],\n",
      "       [ 8,  9],\n",
      "       [12, 13]]), array([[ 2,  3],\n",
      "       [ 6,  7],\n",
      "       [10, 11],\n",
      "       [14, 15]])]\n"
     ]
    }
   ],
   "source": [
    "arr = np.arange(16).reshape(4,4)\n",
    "print('创建的二维数组为：\\n', arr)\n",
    "print('横向分隔为：\\n', np.hsplit(arr,2))"
   ]
  },
  {
   "cell_type": "markdown",
   "metadata": {},
   "source": [
    "使用vsplit函数可以对数组进行纵向分割，以ndarray对象构成的元组作为参数。"
   ]
  },
  {
   "cell_type": "code",
   "execution_count": 71,
   "metadata": {},
   "outputs": [
    {
     "name": "stdout",
     "output_type": "stream",
     "text": [
      "横向分隔为：\n",
      " [array([[0, 1, 2, 3],\n",
      "       [4, 5, 6, 7]]), array([[ 8,  9, 10, 11],\n",
      "       [12, 13, 14, 15]])]\n"
     ]
    }
   ],
   "source": [
    "print('横向分隔为：\\n', np.vsplit(arr,2))"
   ]
  },
  {
   "cell_type": "markdown",
   "metadata": {},
   "source": [
    "split函数同样可以实现数组分割。在参数axis=1时，可以进行横向分割；在参数axis=0时，可以进行纵向分割，如代码2-29所示。"
   ]
  },
  {
   "cell_type": "code",
   "execution_count": null,
   "metadata": {},
   "outputs": [],
   "source": []
  }
 ],
 "metadata": {
  "kernelspec": {
   "display_name": "Python 3",
   "language": "python",
   "name": "python3"
  },
  "language_info": {
   "codemirror_mode": {
    "name": "ipython",
    "version": 3
   },
   "file_extension": ".py",
   "mimetype": "text/x-python",
   "name": "python",
   "nbconvert_exporter": "python",
   "pygments_lexer": "ipython3",
   "version": "3.7.3"
  },
  "toc": {
   "base_numbering": 1,
   "nav_menu": {},
   "number_sections": true,
   "sideBar": true,
   "skip_h1_title": false,
   "title_cell": "Table of Contents",
   "title_sidebar": "Contents",
   "toc_cell": false,
   "toc_position": {},
   "toc_section_display": true,
   "toc_window_display": false
  }
 },
 "nbformat": 4,
 "nbformat_minor": 2
}
