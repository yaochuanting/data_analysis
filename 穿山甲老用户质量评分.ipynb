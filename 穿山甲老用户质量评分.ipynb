{
 "cells": [
  {
   "cell_type": "code",
   "execution_count": 1,
   "metadata": {},
   "outputs": [],
   "source": [
    "import pandas as pd\n",
    "import numpy as np\n",
    "import matplotlib.pyplot as plt\n",
    "import math\n",
    "from numpy import array"
   ]
  },
  {
   "cell_type": "code",
   "execution_count": 2,
   "metadata": {},
   "outputs": [
    {
     "data": {
      "text/html": [
       "<div>\n",
       "<style scoped>\n",
       "    .dataframe tbody tr th:only-of-type {\n",
       "        vertical-align: middle;\n",
       "    }\n",
       "\n",
       "    .dataframe tbody tr th {\n",
       "        vertical-align: top;\n",
       "    }\n",
       "\n",
       "    .dataframe thead th {\n",
       "        text-align: right;\n",
       "    }\n",
       "</style>\n",
       "<table border=\"1\" class=\"dataframe\">\n",
       "  <thead>\n",
       "    <tr style=\"text-align: right;\">\n",
       "      <th></th>\n",
       "      <th>muid</th>\n",
       "      <th>imei_md5</th>\n",
       "      <th>oaid</th>\n",
       "      <th>origin_imei</th>\n",
       "      <th>os_type</th>\n",
       "      <th>vcpv</th>\n",
       "      <th>vppv_esf</th>\n",
       "      <th>active_days_xf</th>\n",
       "      <th>active_days_esf</th>\n",
       "      <th>income_xf</th>\n",
       "      <th>income_esf</th>\n",
       "      <th>guanzhu_xf</th>\n",
       "      <th>guanzhu_esf</th>\n",
       "      <th>session_num_xf</th>\n",
       "      <th>session_num_esf</th>\n",
       "      <th>takelook_order_xf</th>\n",
       "      <th>takelook_order_esf</th>\n",
       "      <th>cal_dt</th>\n",
       "    </tr>\n",
       "  </thead>\n",
       "  <tbody>\n",
       "    <tr>\n",
       "      <th>0</th>\n",
       "      <td>a-ajk,00014a4953f77538,00014a4953f77538</td>\n",
       "      <td>00014a4953f77538</td>\n",
       "      <td>CAA5D2FD29234A0794E8676F3035E37D804632c378704c...</td>\n",
       "      <td>863131045806931</td>\n",
       "      <td>android</td>\n",
       "      <td>6</td>\n",
       "      <td>0</td>\n",
       "      <td>5</td>\n",
       "      <td>0</td>\n",
       "      <td>0.000000</td>\n",
       "      <td>0.000000</td>\n",
       "      <td>0</td>\n",
       "      <td>0</td>\n",
       "      <td>0</td>\n",
       "      <td>0</td>\n",
       "      <td>0</td>\n",
       "      <td>0</td>\n",
       "      <td>2021-05-01</td>\n",
       "    </tr>\n",
       "    <tr>\n",
       "      <th>1</th>\n",
       "      <td>a-ajk,0003e26f8ea58d2f,</td>\n",
       "      <td>0003e26f8ea58d2f</td>\n",
       "      <td>fbafbcf7-7eef-27f3-eb7e-d97f6ddbb97b</td>\n",
       "      <td>869714037405210</td>\n",
       "      <td>android</td>\n",
       "      <td>3</td>\n",
       "      <td>9</td>\n",
       "      <td>2</td>\n",
       "      <td>2</td>\n",
       "      <td>0.914711</td>\n",
       "      <td>0.331979</td>\n",
       "      <td>0</td>\n",
       "      <td>0</td>\n",
       "      <td>0</td>\n",
       "      <td>0</td>\n",
       "      <td>0</td>\n",
       "      <td>0</td>\n",
       "      <td>2021-05-01</td>\n",
       "    </tr>\n",
       "    <tr>\n",
       "      <th>2</th>\n",
       "      <td>a-ajk,000d853ed147247b,000d853ed147247b</td>\n",
       "      <td>000d853ed147247b</td>\n",
       "      <td>7d8b7ec6b9cac0ed</td>\n",
       "      <td>NaN</td>\n",
       "      <td>android</td>\n",
       "      <td>0</td>\n",
       "      <td>0</td>\n",
       "      <td>0</td>\n",
       "      <td>0</td>\n",
       "      <td>0.000000</td>\n",
       "      <td>0.000000</td>\n",
       "      <td>0</td>\n",
       "      <td>0</td>\n",
       "      <td>0</td>\n",
       "      <td>0</td>\n",
       "      <td>0</td>\n",
       "      <td>0</td>\n",
       "      <td>2021-05-01</td>\n",
       "    </tr>\n",
       "    <tr>\n",
       "      <th>3</th>\n",
       "      <td>a-ajk,000e9d57fdff39fe,000e9d57fdff39fe</td>\n",
       "      <td>000e9d57fdff39fe</td>\n",
       "      <td>bffde774-5aaf-cd19-9f67-fbc7e7ecdf74</td>\n",
       "      <td>NaN</td>\n",
       "      <td>android</td>\n",
       "      <td>10</td>\n",
       "      <td>0</td>\n",
       "      <td>6</td>\n",
       "      <td>0</td>\n",
       "      <td>0.554513</td>\n",
       "      <td>0.000000</td>\n",
       "      <td>0</td>\n",
       "      <td>0</td>\n",
       "      <td>0</td>\n",
       "      <td>0</td>\n",
       "      <td>0</td>\n",
       "      <td>0</td>\n",
       "      <td>2021-05-01</td>\n",
       "    </tr>\n",
       "    <tr>\n",
       "      <th>4</th>\n",
       "      <td>a-ajk,0012be627b2ed132,0012be627b2ed132</td>\n",
       "      <td>0012be627b2ed132</td>\n",
       "      <td>b85ec8a5f48b5df1</td>\n",
       "      <td>NaN</td>\n",
       "      <td>android</td>\n",
       "      <td>0</td>\n",
       "      <td>0</td>\n",
       "      <td>0</td>\n",
       "      <td>0</td>\n",
       "      <td>0.000000</td>\n",
       "      <td>0.000000</td>\n",
       "      <td>0</td>\n",
       "      <td>0</td>\n",
       "      <td>0</td>\n",
       "      <td>0</td>\n",
       "      <td>0</td>\n",
       "      <td>0</td>\n",
       "      <td>2021-05-01</td>\n",
       "    </tr>\n",
       "  </tbody>\n",
       "</table>\n",
       "</div>"
      ],
      "text/plain": [
       "                                      muid          imei_md5  \\\n",
       "0  a-ajk,00014a4953f77538,00014a4953f77538  00014a4953f77538   \n",
       "1                  a-ajk,0003e26f8ea58d2f,  0003e26f8ea58d2f   \n",
       "2  a-ajk,000d853ed147247b,000d853ed147247b  000d853ed147247b   \n",
       "3  a-ajk,000e9d57fdff39fe,000e9d57fdff39fe  000e9d57fdff39fe   \n",
       "4  a-ajk,0012be627b2ed132,0012be627b2ed132  0012be627b2ed132   \n",
       "\n",
       "                                                oaid      origin_imei  \\\n",
       "0  CAA5D2FD29234A0794E8676F3035E37D804632c378704c...  863131045806931   \n",
       "1               fbafbcf7-7eef-27f3-eb7e-d97f6ddbb97b  869714037405210   \n",
       "2                                   7d8b7ec6b9cac0ed              NaN   \n",
       "3               bffde774-5aaf-cd19-9f67-fbc7e7ecdf74              NaN   \n",
       "4                                   b85ec8a5f48b5df1              NaN   \n",
       "\n",
       "   os_type  vcpv  vppv_esf  active_days_xf  active_days_esf  income_xf  \\\n",
       "0  android     6         0               5                0   0.000000   \n",
       "1  android     3         9               2                2   0.914711   \n",
       "2  android     0         0               0                0   0.000000   \n",
       "3  android    10         0               6                0   0.554513   \n",
       "4  android     0         0               0                0   0.000000   \n",
       "\n",
       "   income_esf  guanzhu_xf  guanzhu_esf  session_num_xf  session_num_esf  \\\n",
       "0    0.000000           0            0               0                0   \n",
       "1    0.331979           0            0               0                0   \n",
       "2    0.000000           0            0               0                0   \n",
       "3    0.000000           0            0               0                0   \n",
       "4    0.000000           0            0               0                0   \n",
       "\n",
       "   takelook_order_xf  takelook_order_esf      cal_dt  \n",
       "0                  0                   0  2021-05-01  \n",
       "1                  0                   0  2021-05-01  \n",
       "2                  0                   0  2021-05-01  \n",
       "3                  0                   0  2021-05-01  \n",
       "4                  0                   0  2021-05-01  "
      ]
     },
     "execution_count": 2,
     "metadata": {},
     "output_type": "execute_result"
    }
   ],
   "source": [
    "# 读取数据\n",
    "hbg_olduser_index = pd.read_table('./files/hbg_olduser_index.txt')\n",
    "hbg_olduser_index.head()"
   ]
  },
  {
   "cell_type": "code",
   "execution_count": 3,
   "metadata": {},
   "outputs": [
    {
     "data": {
      "text/html": [
       "<div>\n",
       "<style scoped>\n",
       "    .dataframe tbody tr th:only-of-type {\n",
       "        vertical-align: middle;\n",
       "    }\n",
       "\n",
       "    .dataframe tbody tr th {\n",
       "        vertical-align: top;\n",
       "    }\n",
       "\n",
       "    .dataframe thead th {\n",
       "        text-align: right;\n",
       "    }\n",
       "</style>\n",
       "<table border=\"1\" class=\"dataframe\">\n",
       "  <thead>\n",
       "    <tr style=\"text-align: right;\">\n",
       "      <th></th>\n",
       "      <th>muid</th>\n",
       "      <th>imei_md5</th>\n",
       "      <th>oaid</th>\n",
       "      <th>origin_imei</th>\n",
       "      <th>os_type</th>\n",
       "      <th>vcpv</th>\n",
       "      <th>guanzhu_xf</th>\n",
       "      <th>session_num_xf</th>\n",
       "    </tr>\n",
       "  </thead>\n",
       "  <tbody>\n",
       "    <tr>\n",
       "      <th>0</th>\n",
       "      <td>a-ajk,00014a4953f77538,00014a4953f77538</td>\n",
       "      <td>00014a4953f77538</td>\n",
       "      <td>CAA5D2FD29234A0794E8676F3035E37D804632c378704c...</td>\n",
       "      <td>863131045806931</td>\n",
       "      <td>android</td>\n",
       "      <td>6</td>\n",
       "      <td>0</td>\n",
       "      <td>0</td>\n",
       "    </tr>\n",
       "    <tr>\n",
       "      <th>1</th>\n",
       "      <td>a-ajk,0003e26f8ea58d2f,</td>\n",
       "      <td>0003e26f8ea58d2f</td>\n",
       "      <td>fbafbcf7-7eef-27f3-eb7e-d97f6ddbb97b</td>\n",
       "      <td>869714037405210</td>\n",
       "      <td>android</td>\n",
       "      <td>3</td>\n",
       "      <td>0</td>\n",
       "      <td>0</td>\n",
       "    </tr>\n",
       "    <tr>\n",
       "      <th>2</th>\n",
       "      <td>a-ajk,000d853ed147247b,000d853ed147247b</td>\n",
       "      <td>000d853ed147247b</td>\n",
       "      <td>7d8b7ec6b9cac0ed</td>\n",
       "      <td>NaN</td>\n",
       "      <td>android</td>\n",
       "      <td>0</td>\n",
       "      <td>0</td>\n",
       "      <td>0</td>\n",
       "    </tr>\n",
       "    <tr>\n",
       "      <th>3</th>\n",
       "      <td>a-ajk,000e9d57fdff39fe,000e9d57fdff39fe</td>\n",
       "      <td>000e9d57fdff39fe</td>\n",
       "      <td>bffde774-5aaf-cd19-9f67-fbc7e7ecdf74</td>\n",
       "      <td>NaN</td>\n",
       "      <td>android</td>\n",
       "      <td>10</td>\n",
       "      <td>0</td>\n",
       "      <td>0</td>\n",
       "    </tr>\n",
       "    <tr>\n",
       "      <th>4</th>\n",
       "      <td>a-ajk,0012be627b2ed132,0012be627b2ed132</td>\n",
       "      <td>0012be627b2ed132</td>\n",
       "      <td>b85ec8a5f48b5df1</td>\n",
       "      <td>NaN</td>\n",
       "      <td>android</td>\n",
       "      <td>0</td>\n",
       "      <td>0</td>\n",
       "      <td>0</td>\n",
       "    </tr>\n",
       "  </tbody>\n",
       "</table>\n",
       "</div>"
      ],
      "text/plain": [
       "                                      muid          imei_md5  \\\n",
       "0  a-ajk,00014a4953f77538,00014a4953f77538  00014a4953f77538   \n",
       "1                  a-ajk,0003e26f8ea58d2f,  0003e26f8ea58d2f   \n",
       "2  a-ajk,000d853ed147247b,000d853ed147247b  000d853ed147247b   \n",
       "3  a-ajk,000e9d57fdff39fe,000e9d57fdff39fe  000e9d57fdff39fe   \n",
       "4  a-ajk,0012be627b2ed132,0012be627b2ed132  0012be627b2ed132   \n",
       "\n",
       "                                                oaid      origin_imei  \\\n",
       "0  CAA5D2FD29234A0794E8676F3035E37D804632c378704c...  863131045806931   \n",
       "1               fbafbcf7-7eef-27f3-eb7e-d97f6ddbb97b  869714037405210   \n",
       "2                                   7d8b7ec6b9cac0ed              NaN   \n",
       "3               bffde774-5aaf-cd19-9f67-fbc7e7ecdf74              NaN   \n",
       "4                                   b85ec8a5f48b5df1              NaN   \n",
       "\n",
       "   os_type  vcpv  guanzhu_xf  session_num_xf  \n",
       "0  android     6           0               0  \n",
       "1  android     3           0               0  \n",
       "2  android     0           0               0  \n",
       "3  android    10           0               0  \n",
       "4  android     0           0               0  "
      ]
     },
     "execution_count": 3,
     "metadata": {},
     "output_type": "execute_result"
    }
   ],
   "source": [
    "hbg_xf_index = hbg_olduser_index.loc[:, ['muid','imei_md5','oaid','origin_imei','os_type','vcpv','guanzhu_xf','session_num_xf']]\n",
    "hbg_xf_index.head()"
   ]
  },
  {
   "cell_type": "code",
   "execution_count": 4,
   "metadata": {},
   "outputs": [
    {
     "data": {
      "text/html": [
       "<div>\n",
       "<style scoped>\n",
       "    .dataframe tbody tr th:only-of-type {\n",
       "        vertical-align: middle;\n",
       "    }\n",
       "\n",
       "    .dataframe tbody tr th {\n",
       "        vertical-align: top;\n",
       "    }\n",
       "\n",
       "    .dataframe thead th {\n",
       "        text-align: right;\n",
       "    }\n",
       "</style>\n",
       "<table border=\"1\" class=\"dataframe\">\n",
       "  <thead>\n",
       "    <tr style=\"text-align: right;\">\n",
       "      <th></th>\n",
       "      <th>muid</th>\n",
       "      <th>imei_md5</th>\n",
       "      <th>oaid</th>\n",
       "      <th>origin_imei</th>\n",
       "      <th>os_type</th>\n",
       "      <th>vppv_esf</th>\n",
       "      <th>guanzhu_esf</th>\n",
       "      <th>session_num_esf</th>\n",
       "      <th>takelook_order_esf</th>\n",
       "    </tr>\n",
       "  </thead>\n",
       "  <tbody>\n",
       "    <tr>\n",
       "      <th>0</th>\n",
       "      <td>a-ajk,00014a4953f77538,00014a4953f77538</td>\n",
       "      <td>00014a4953f77538</td>\n",
       "      <td>CAA5D2FD29234A0794E8676F3035E37D804632c378704c...</td>\n",
       "      <td>863131045806931</td>\n",
       "      <td>android</td>\n",
       "      <td>0</td>\n",
       "      <td>0</td>\n",
       "      <td>0</td>\n",
       "      <td>0</td>\n",
       "    </tr>\n",
       "    <tr>\n",
       "      <th>1</th>\n",
       "      <td>a-ajk,0003e26f8ea58d2f,</td>\n",
       "      <td>0003e26f8ea58d2f</td>\n",
       "      <td>fbafbcf7-7eef-27f3-eb7e-d97f6ddbb97b</td>\n",
       "      <td>869714037405210</td>\n",
       "      <td>android</td>\n",
       "      <td>9</td>\n",
       "      <td>0</td>\n",
       "      <td>0</td>\n",
       "      <td>0</td>\n",
       "    </tr>\n",
       "    <tr>\n",
       "      <th>2</th>\n",
       "      <td>a-ajk,000d853ed147247b,000d853ed147247b</td>\n",
       "      <td>000d853ed147247b</td>\n",
       "      <td>7d8b7ec6b9cac0ed</td>\n",
       "      <td>NaN</td>\n",
       "      <td>android</td>\n",
       "      <td>0</td>\n",
       "      <td>0</td>\n",
       "      <td>0</td>\n",
       "      <td>0</td>\n",
       "    </tr>\n",
       "    <tr>\n",
       "      <th>3</th>\n",
       "      <td>a-ajk,000e9d57fdff39fe,000e9d57fdff39fe</td>\n",
       "      <td>000e9d57fdff39fe</td>\n",
       "      <td>bffde774-5aaf-cd19-9f67-fbc7e7ecdf74</td>\n",
       "      <td>NaN</td>\n",
       "      <td>android</td>\n",
       "      <td>0</td>\n",
       "      <td>0</td>\n",
       "      <td>0</td>\n",
       "      <td>0</td>\n",
       "    </tr>\n",
       "    <tr>\n",
       "      <th>4</th>\n",
       "      <td>a-ajk,0012be627b2ed132,0012be627b2ed132</td>\n",
       "      <td>0012be627b2ed132</td>\n",
       "      <td>b85ec8a5f48b5df1</td>\n",
       "      <td>NaN</td>\n",
       "      <td>android</td>\n",
       "      <td>0</td>\n",
       "      <td>0</td>\n",
       "      <td>0</td>\n",
       "      <td>0</td>\n",
       "    </tr>\n",
       "  </tbody>\n",
       "</table>\n",
       "</div>"
      ],
      "text/plain": [
       "                                      muid          imei_md5  \\\n",
       "0  a-ajk,00014a4953f77538,00014a4953f77538  00014a4953f77538   \n",
       "1                  a-ajk,0003e26f8ea58d2f,  0003e26f8ea58d2f   \n",
       "2  a-ajk,000d853ed147247b,000d853ed147247b  000d853ed147247b   \n",
       "3  a-ajk,000e9d57fdff39fe,000e9d57fdff39fe  000e9d57fdff39fe   \n",
       "4  a-ajk,0012be627b2ed132,0012be627b2ed132  0012be627b2ed132   \n",
       "\n",
       "                                                oaid      origin_imei  \\\n",
       "0  CAA5D2FD29234A0794E8676F3035E37D804632c378704c...  863131045806931   \n",
       "1               fbafbcf7-7eef-27f3-eb7e-d97f6ddbb97b  869714037405210   \n",
       "2                                   7d8b7ec6b9cac0ed              NaN   \n",
       "3               bffde774-5aaf-cd19-9f67-fbc7e7ecdf74              NaN   \n",
       "4                                   b85ec8a5f48b5df1              NaN   \n",
       "\n",
       "   os_type  vppv_esf  guanzhu_esf  session_num_esf  takelook_order_esf  \n",
       "0  android         0            0                0                   0  \n",
       "1  android         9            0                0                   0  \n",
       "2  android         0            0                0                   0  \n",
       "3  android         0            0                0                   0  \n",
       "4  android         0            0                0                   0  "
      ]
     },
     "execution_count": 4,
     "metadata": {},
     "output_type": "execute_result"
    }
   ],
   "source": [
    "hbg_esf_index = hbg_olduser_index.loc[:, ['muid','imei_md5','oaid','origin_imei','os_type','vppv_esf','guanzhu_esf','session_num_esf','takelook_order_esf']]\n",
    "hbg_esf_index.head()"
   ]
  },
  {
   "cell_type": "markdown",
   "metadata": {},
   "source": [
    "# 一、新房指标部分"
   ]
  },
  {
   "cell_type": "markdown",
   "metadata": {},
   "source": [
    "## 1、先看新房整体数据的统计描述"
   ]
  },
  {
   "cell_type": "code",
   "execution_count": 5,
   "metadata": {},
   "outputs": [
    {
     "data": {
      "text/html": [
       "<div>\n",
       "<style scoped>\n",
       "    .dataframe tbody tr th:only-of-type {\n",
       "        vertical-align: middle;\n",
       "    }\n",
       "\n",
       "    .dataframe tbody tr th {\n",
       "        vertical-align: top;\n",
       "    }\n",
       "\n",
       "    .dataframe thead th {\n",
       "        text-align: right;\n",
       "    }\n",
       "</style>\n",
       "<table border=\"1\" class=\"dataframe\">\n",
       "  <thead>\n",
       "    <tr style=\"text-align: right;\">\n",
       "      <th></th>\n",
       "      <th>vcpv</th>\n",
       "      <th>guanzhu_xf</th>\n",
       "      <th>session_num_xf</th>\n",
       "    </tr>\n",
       "  </thead>\n",
       "  <tbody>\n",
       "    <tr>\n",
       "      <th>count</th>\n",
       "      <td>2.183818e+06</td>\n",
       "      <td>2.183818e+06</td>\n",
       "      <td>2.183818e+06</td>\n",
       "    </tr>\n",
       "    <tr>\n",
       "      <th>mean</th>\n",
       "      <td>4.311956e+00</td>\n",
       "      <td>1.020873e-02</td>\n",
       "      <td>1.549973e-01</td>\n",
       "    </tr>\n",
       "    <tr>\n",
       "      <th>std</th>\n",
       "      <td>1.085666e+01</td>\n",
       "      <td>1.460097e-01</td>\n",
       "      <td>4.846358e+00</td>\n",
       "    </tr>\n",
       "    <tr>\n",
       "      <th>min</th>\n",
       "      <td>0.000000e+00</td>\n",
       "      <td>0.000000e+00</td>\n",
       "      <td>0.000000e+00</td>\n",
       "    </tr>\n",
       "    <tr>\n",
       "      <th>25%</th>\n",
       "      <td>1.000000e+00</td>\n",
       "      <td>0.000000e+00</td>\n",
       "      <td>0.000000e+00</td>\n",
       "    </tr>\n",
       "    <tr>\n",
       "      <th>50%</th>\n",
       "      <td>2.000000e+00</td>\n",
       "      <td>0.000000e+00</td>\n",
       "      <td>0.000000e+00</td>\n",
       "    </tr>\n",
       "    <tr>\n",
       "      <th>75%</th>\n",
       "      <td>5.000000e+00</td>\n",
       "      <td>0.000000e+00</td>\n",
       "      <td>0.000000e+00</td>\n",
       "    </tr>\n",
       "    <tr>\n",
       "      <th>max</th>\n",
       "      <td>1.098000e+03</td>\n",
       "      <td>3.300000e+01</td>\n",
       "      <td>2.429000e+03</td>\n",
       "    </tr>\n",
       "  </tbody>\n",
       "</table>\n",
       "</div>"
      ],
      "text/plain": [
       "               vcpv    guanzhu_xf  session_num_xf\n",
       "count  2.183818e+06  2.183818e+06    2.183818e+06\n",
       "mean   4.311956e+00  1.020873e-02    1.549973e-01\n",
       "std    1.085666e+01  1.460097e-01    4.846358e+00\n",
       "min    0.000000e+00  0.000000e+00    0.000000e+00\n",
       "25%    1.000000e+00  0.000000e+00    0.000000e+00\n",
       "50%    2.000000e+00  0.000000e+00    0.000000e+00\n",
       "75%    5.000000e+00  0.000000e+00    0.000000e+00\n",
       "max    1.098000e+03  3.300000e+01    2.429000e+03"
      ]
     },
     "execution_count": 5,
     "metadata": {},
     "output_type": "execute_result"
    }
   ],
   "source": [
    "hbg_xf_index.describe()"
   ]
  },
  {
   "cell_type": "markdown",
   "metadata": {},
   "source": [
    "## 2、再看新房vcpv数据分布"
   ]
  },
  {
   "cell_type": "code",
   "execution_count": 6,
   "metadata": {},
   "outputs": [],
   "source": [
    "# 存放vcpv数据\n",
    "vcpv_array = np.array(hbg_xf_index.loc[:,'vcpv'])\n",
    "vcpv_not0_array = vcpv_array[vcpv_array>0]  # vcpv大于0的vcpv分布情况"
   ]
  },
  {
   "cell_type": "code",
   "execution_count": 8,
   "metadata": {},
   "outputs": [
    {
     "data": {
      "text/plain": [
       "array([ 1.,  1.,  2.,  2.,  3.,  4.,  5.,  7., 10., 44.])"
      ]
     },
     "execution_count": 8,
     "metadata": {},
     "output_type": "execute_result"
    }
   ],
   "source": [
    "# 存放vcpv百分位数,90%的数据都在10以下\n",
    "# 箱线图剔除异常值的方式不可用，因为分布严重左偏——会把大部分数据判断为异常值\n",
    "vcpv_pct = np.array([np.percentile(vcpv_not0_array, 10)\n",
    "                       ,np.percentile(vcpv_not0_array, 20)\n",
    "                       ,np.percentile(vcpv_not0_array, 30)\n",
    "                       ,np.percentile(vcpv_not0_array, 40)\n",
    "                       ,np.percentile(vcpv_not0_array, 50)\n",
    "                       ,np.percentile(vcpv_not0_array, 60)\n",
    "                       ,np.percentile(vcpv_not0_array, 70)\n",
    "                       ,np.percentile(vcpv_not0_array, 80)\n",
    "                       ,np.percentile(vcpv_not0_array, 90)\n",
    "                       ,np.percentile(vcpv_not0_array, 99)])\n",
    "vcpv_pct"
   ]
  },
  {
   "cell_type": "code",
   "execution_count": 9,
   "metadata": {},
   "outputs": [
    {
     "data": {
      "text/html": [
       "<div>\n",
       "<style scoped>\n",
       "    .dataframe tbody tr th:only-of-type {\n",
       "        vertical-align: middle;\n",
       "    }\n",
       "\n",
       "    .dataframe tbody tr th {\n",
       "        vertical-align: top;\n",
       "    }\n",
       "\n",
       "    .dataframe thead th {\n",
       "        text-align: right;\n",
       "    }\n",
       "</style>\n",
       "<table border=\"1\" class=\"dataframe\">\n",
       "  <thead>\n",
       "    <tr style=\"text-align: right;\">\n",
       "      <th></th>\n",
       "      <th>vcpv</th>\n",
       "    </tr>\n",
       "  </thead>\n",
       "  <tbody>\n",
       "    <tr>\n",
       "      <th>count</th>\n",
       "      <td>2.166792e+06</td>\n",
       "    </tr>\n",
       "    <tr>\n",
       "      <th>mean</th>\n",
       "      <td>3.642452e+00</td>\n",
       "    </tr>\n",
       "    <tr>\n",
       "      <th>std</th>\n",
       "      <td>5.063221e+00</td>\n",
       "    </tr>\n",
       "    <tr>\n",
       "      <th>min</th>\n",
       "      <td>0.000000e+00</td>\n",
       "    </tr>\n",
       "    <tr>\n",
       "      <th>25%</th>\n",
       "      <td>1.000000e+00</td>\n",
       "    </tr>\n",
       "    <tr>\n",
       "      <th>50%</th>\n",
       "      <td>2.000000e+00</td>\n",
       "    </tr>\n",
       "    <tr>\n",
       "      <th>75%</th>\n",
       "      <td>5.000000e+00</td>\n",
       "    </tr>\n",
       "    <tr>\n",
       "      <th>max</th>\n",
       "      <td>4.400000e+01</td>\n",
       "    </tr>\n",
       "  </tbody>\n",
       "</table>\n",
       "</div>"
      ],
      "text/plain": [
       "               vcpv\n",
       "count  2.166792e+06\n",
       "mean   3.642452e+00\n",
       "std    5.063221e+00\n",
       "min    0.000000e+00\n",
       "25%    1.000000e+00\n",
       "50%    2.000000e+00\n",
       "75%    5.000000e+00\n",
       "max    4.400000e+01"
      ]
     },
     "execution_count": 9,
     "metadata": {},
     "output_type": "execute_result"
    }
   ],
   "source": [
    "# 剔除异常值之后的vcpv统计值\n",
    "vcpv_df = pd.DataFrame(hbg_xf_index.loc[:,'vcpv'])\n",
    "norm_vcpv_df = vcpv_df[vcpv_df<=44]\n",
    "norm_vcpv_df.describe()"
   ]
  },
  {
   "cell_type": "code",
   "execution_count": 10,
   "metadata": {},
   "outputs": [
    {
     "data": {
      "text/plain": [
       "Text(0.5, 1.0, 'vcpv分布 箱线图')"
      ]
     },
     "execution_count": 10,
     "metadata": {},
     "output_type": "execute_result"
    },
    {
     "data": {
      "image/png": "[encoded data removed]",
      "text/plain": [
       "<Figure size 432x288 with 1 Axes>"
      ]
     },
     "metadata": {
      "needs_background": "light"
     },
     "output_type": "display_data"
    }
   ],
   "source": [
    "plt.rcParams['font.sans-serif']=['SimHei']   # 用黑体显示中文\n",
    "plt.rcParams['axes.unicode_minus']=False     # 正常显示负号\n",
    "\n",
    "\n",
    "# 箱线图，异常值判断--不太符合业务场景，用户数据分布过于不均匀，非正态分布\n",
    "fig, ax = plt.subplots()\n",
    "\n",
    "normal_vcpv_array=vcpv_array[vcpv_array<=44]\n",
    "# change outlier point symbols\n",
    "ax.boxplot(normal_vcpv_array, 0, 'gD')\n",
    "ax.set_title('vcpv分布 箱线图')"
   ]
  },
  {
   "cell_type": "code",
   "execution_count": 11,
   "metadata": {},
   "outputs": [
    {
     "data": {
      "image/png": "[encoded data removed]",
      "text/plain": [
       "<Figure size 432x288 with 1 Axes>"
      ]
     },
     "metadata": {
      "needs_background": "light"
     },
     "output_type": "display_data"
    }
   ],
   "source": [
    "# 查看vcpv分布情况-直方图\n",
    "\n",
    "num_bins = 44\n",
    "mu = 3.6  # mean of distribution\n",
    "sigma = 5.1  # standard deviation of distribution\n",
    "\n",
    "fig, ax = plt.subplots()\n",
    "\n",
    "# the histogram of the data\n",
    "n, bins, patches = ax.hist(normal_vcpv_array, num_bins, density=True)\n",
    "\n",
    "ax.set_xlabel('vcpv')\n",
    "ax.set_ylabel('Probability density')\n",
    "ax.set_title(r'Histogram of vcpv: $\\mu=3.6$, $\\sigma=5.1$')\n",
    "\n",
    "# Tweak spacing to prevent clipping of ylabel\n",
    "fig.tight_layout()\n",
    "plt.show()\n"
   ]
  },
  {
   "cell_type": "markdown",
   "metadata": {},
   "source": [
    "## 3、再看新房关注数的数据分布"
   ]
  },
  {
   "cell_type": "code",
   "execution_count": 12,
   "metadata": {},
   "outputs": [],
   "source": [
    "# 存放guanzhu_xf数据\n",
    "xfgz_array = np.array(hbg_xf_index.loc[:,'guanzhu_xf'])\n",
    "xfgz_not0_array = xfgz_array[xfgz_array>0]"
   ]
  },
  {
   "cell_type": "code",
   "execution_count": 14,
   "metadata": {},
   "outputs": [
    {
     "data": {
      "text/plain": [
       "array([1., 1., 1., 1., 1., 1., 1., 1., 2., 5.])"
      ]
     },
     "execution_count": 14,
     "metadata": {},
     "output_type": "execute_result"
    }
   ],
   "source": [
    "# 存放guanzhu_xf百分位数,99%的数据都在5以下\n",
    "xfgz_not0_pct = np.array([np.percentile(xfgz_not0_array, 10)\n",
    "                       ,np.percentile(xfgz_not0_array, 20)\n",
    "                       ,np.percentile(xfgz_not0_array, 30)\n",
    "                       ,np.percentile(xfgz_not0_array, 40)\n",
    "                       ,np.percentile(xfgz_not0_array, 50)\n",
    "                       ,np.percentile(xfgz_not0_array, 60)\n",
    "                       ,np.percentile(xfgz_not0_array, 70)\n",
    "                       ,np.percentile(xfgz_not0_array, 80)\n",
    "                       ,np.percentile(xfgz_not0_array, 90)\n",
    "                       ,np.percentile(xfgz_not0_array, 99)])\n",
    "xfgz_not0_pct"
   ]
  },
  {
   "cell_type": "code",
   "execution_count": 15,
   "metadata": {},
   "outputs": [
    {
     "data": {
      "image/png": "[encoded data removed]",
      "text/plain": [
       "<Figure size 432x216 with 1 Axes>"
      ]
     },
     "metadata": {},
     "output_type": "display_data"
    }
   ],
   "source": [
    "# 查看新房关注数的分布情况\n",
    "fig, ax = plt.subplots(figsize=(6, 3), subplot_kw=dict(aspect=\"equal\"))\n",
    "\n",
    "recipe = [\"4502725个\",\"37015个\"]\n",
    "\n",
    "data = [4502725, 37015]\n",
    "ingredients = [\"关注数=0\",\"关注数>0\"]\n",
    "\n",
    "\n",
    "def func(pct, allvals):\n",
    "    absolute = int(round(pct/100.*np.sum(allvals)))\n",
    "    return \"{:.1f}%\\n({:d} g)\".format(pct, absolute)\n",
    "\n",
    "\n",
    "wedges, texts, autotexts = ax.pie(data, autopct=lambda pct: func(pct, data),textprops=dict(color=\"w\"))\n",
    "\n",
    "ax.legend(wedges, ingredients,\n",
    "          title=\"图例\",\n",
    "          loc=\"center left\",\n",
    "          bbox_to_anchor=(1, 0, 0.5, 1))\n",
    "\n",
    "plt.setp(autotexts, size=8, weight=\"bold\")\n",
    "\n",
    "ax.set_title(\"关注新房人数分布\")\n",
    "\n",
    "plt.show()"
   ]
  },
  {
   "cell_type": "markdown",
   "metadata": {},
   "source": [
    "## 4、再看下连接数分布"
   ]
  },
  {
   "cell_type": "code",
   "execution_count": 16,
   "metadata": {},
   "outputs": [],
   "source": [
    "# 存放连接数据\n",
    "xflj_array = np.array(hbg_xf_index.loc[:,'session_num_xf'])\n",
    "xflj_not0_array = xflj_array[xflj_array>0]"
   ]
  },
  {
   "cell_type": "code",
   "execution_count": 17,
   "metadata": {},
   "outputs": [
    {
     "data": {
      "text/plain": [
       "array([ 1.,  1.,  1.,  1.,  1.,  1.,  2.,  2.,  4., 20.])"
      ]
     },
     "execution_count": 17,
     "metadata": {},
     "output_type": "execute_result"
    }
   ],
   "source": [
    "# 存放连接百分位数,99%的数据都在20以下\n",
    "xflj_not0_pct = np.array([np.percentile(xflj_not0_array, 10)\n",
    "                       ,np.percentile(xflj_not0_array, 20)\n",
    "                       ,np.percentile(xflj_not0_array, 30)\n",
    "                       ,np.percentile(xflj_not0_array, 40)\n",
    "                       ,np.percentile(xflj_not0_array, 50)\n",
    "                       ,np.percentile(xflj_not0_array, 60)\n",
    "                       ,np.percentile(xflj_not0_array, 70)\n",
    "                       ,np.percentile(xflj_not0_array, 80)\n",
    "                       ,np.percentile(xflj_not0_array, 90)\n",
    "                       ,np.percentile(xflj_not0_array, 99)])\n",
    "xflj_not0_pct"
   ]
  },
  {
   "cell_type": "code",
   "execution_count": 18,
   "metadata": {},
   "outputs": [
    {
     "data": {
      "text/html": [
       "<div>\n",
       "<style scoped>\n",
       "    .dataframe tbody tr th:only-of-type {\n",
       "        vertical-align: middle;\n",
       "    }\n",
       "\n",
       "    .dataframe tbody tr th {\n",
       "        vertical-align: top;\n",
       "    }\n",
       "\n",
       "    .dataframe thead th {\n",
       "        text-align: right;\n",
       "    }\n",
       "</style>\n",
       "<table border=\"1\" class=\"dataframe\">\n",
       "  <thead>\n",
       "    <tr style=\"text-align: right;\">\n",
       "      <th></th>\n",
       "      <th>session_num_xf</th>\n",
       "    </tr>\n",
       "  </thead>\n",
       "  <tbody>\n",
       "    <tr>\n",
       "      <th>count</th>\n",
       "      <td>2.182651e+06</td>\n",
       "    </tr>\n",
       "    <tr>\n",
       "      <th>mean</th>\n",
       "      <td>1.099791e-01</td>\n",
       "    </tr>\n",
       "    <tr>\n",
       "      <th>std</th>\n",
       "      <td>6.832769e-01</td>\n",
       "    </tr>\n",
       "    <tr>\n",
       "      <th>min</th>\n",
       "      <td>0.000000e+00</td>\n",
       "    </tr>\n",
       "    <tr>\n",
       "      <th>25%</th>\n",
       "      <td>0.000000e+00</td>\n",
       "    </tr>\n",
       "    <tr>\n",
       "      <th>50%</th>\n",
       "      <td>0.000000e+00</td>\n",
       "    </tr>\n",
       "    <tr>\n",
       "      <th>75%</th>\n",
       "      <td>0.000000e+00</td>\n",
       "    </tr>\n",
       "    <tr>\n",
       "      <th>max</th>\n",
       "      <td>2.000000e+01</td>\n",
       "    </tr>\n",
       "  </tbody>\n",
       "</table>\n",
       "</div>"
      ],
      "text/plain": [
       "       session_num_xf\n",
       "count    2.182651e+06\n",
       "mean     1.099791e-01\n",
       "std      6.832769e-01\n",
       "min      0.000000e+00\n",
       "25%      0.000000e+00\n",
       "50%      0.000000e+00\n",
       "75%      0.000000e+00\n",
       "max      2.000000e+01"
      ]
     },
     "execution_count": 18,
     "metadata": {},
     "output_type": "execute_result"
    }
   ],
   "source": [
    "# 剔除异常值之后的连接数统计值\n",
    "\n",
    "xflj_df = pd.DataFrame(hbg_xf_index.loc[:,'session_num_xf'])\n",
    "norm_xflj_df = xflj_df[xflj_df<=20]\n",
    "norm_xflj_df.describe()"
   ]
  },
  {
   "cell_type": "code",
   "execution_count": 19,
   "metadata": {},
   "outputs": [
    {
     "data": {
      "text/plain": [
       "Text(0.5, 1.0, '新房连接数分布 箱线图')"
      ]
     },
     "execution_count": 19,
     "metadata": {},
     "output_type": "execute_result"
    },
    {
     "data": {
      "image/png": "[encoded data removed]",
      "text/plain": [
       "<Figure size 432x288 with 1 Axes>"
      ]
     },
     "metadata": {
      "needs_background": "light"
     },
     "output_type": "display_data"
    }
   ],
   "source": [
    "plt.rcParams['font.sans-serif']=['SimHei']   # 用黑体显示中文\n",
    "plt.rcParams['axes.unicode_minus']=False     # 正常显示负号\n",
    "\n",
    "\n",
    "# 箱线图，异常值判断--不太符合业务场景，用户数据分布过于不均匀，非正态分布\n",
    "fig, ax = plt.subplots()\n",
    "\n",
    "normal_xflj_array=xflj_array[xflj_array<=20]\n",
    "# change outlier point symbols\n",
    "ax.boxplot(normal_xflj_array, 0, 'gD')\n",
    "ax.set_title('新房连接数分布 箱线图')"
   ]
  },
  {
   "cell_type": "code",
   "execution_count": 20,
   "metadata": {},
   "outputs": [
    {
     "data": {
      "image/png": "[encoded data removed]",
      "text/plain": [
       "<Figure size 432x288 with 1 Axes>"
      ]
     },
     "metadata": {
      "needs_background": "light"
     },
     "output_type": "display_data"
    }
   ],
   "source": [
    "# 查看新房连接数分布情况-直方图\n",
    "\n",
    "num_bins = 38\n",
    "mu = 0.11  # mean of distribution\n",
    "sigma = 0.68  # standard deviation of distribution\n",
    "\n",
    "fig, ax = plt.subplots()\n",
    "\n",
    "# the histogram of the data\n",
    "n, bins, patches = ax.hist(normal_vcpv_array, num_bins, density=True)\n",
    "\n",
    "ax.set_xlabel('session_num')\n",
    "ax.set_ylabel('Probability density')\n",
    "ax.set_title(r'Histogram of session_num: $\\mu=0.11$, $\\sigma=0.68$')\n",
    "\n",
    "# Tweak spacing to prevent clipping of ylabel\n",
    "fig.tight_layout()\n",
    "plt.show()\n"
   ]
  },
  {
   "cell_type": "code",
   "execution_count": null,
   "metadata": {},
   "outputs": [],
   "source": [
    "# #定义熵值法函数\n",
    "# def cal_weight(x):\n",
    "#     '''熵值法计算变量的权重'''\n",
    "#     # 标准化\n",
    "#     x = x.apply(lambda x: ((x - np.min(x)) / (np.max(x) - np.min(x))))\n",
    " \n",
    "#     # 求k\n",
    "#     rows = x.index.size  # 行\n",
    "#     cols = x.columns.size  # 列\n",
    "#     k = 1.0 / math.log(rows)\n",
    " \n",
    "#     lnf = [[None] * cols for i in range(rows)]\n",
    " \n",
    "#     # 矩阵计算--\n",
    "#     # 信息熵\n",
    "#     # p=array(p)\n",
    "#     x = array(x)\n",
    "#     lnf = [[None] * cols for i in range(rows)]\n",
    "#     lnf = array(lnf)\n",
    "#     for i in range(0, rows):\n",
    "#         for j in range(0, cols):\n",
    "#             if x[i][j] == 0:\n",
    "#                 lnfij = 0.0\n",
    "#             else:\n",
    "#                 p = x[i][j] / x.sum(axis=0)[j]\n",
    "#                 lnfij = math.log(p) * p * (-k)\n",
    "#             lnf[i][j] = lnfij\n",
    "#     lnf = pd.DataFrame(lnf)\n",
    "#     E = lnf\n",
    " \n",
    "#     # 计算冗余度\n",
    "#     d = 1 - E.sum(axis=0)\n",
    "#     # 计算各指标的权重\n",
    "#     w = [[None] * 1 for i in range(cols)]\n",
    "#     for j in range(0, cols):\n",
    "#         wj = d[j] / sum(d)\n",
    "#         w[j] = wj\n",
    "#         # 计算各样本的综合得分,用最原始的数据\n",
    "    \n",
    "#     w = pd.DataFrame(w)\n",
    "#     return w"
   ]
  },
  {
   "cell_type": "code",
   "execution_count": null,
   "metadata": {},
   "outputs": [],
   "source": [
    "# df = hbg_olduser_index.loc[:, ['vcpv','session_num_xf']]\n",
    "# w = cal_weight(df)  # 调用cal_weight\n",
    "# w.index = df.columns\n",
    "# w.columns = ['weight']\n",
    "# print(w)"
   ]
  },
  {
   "cell_type": "markdown",
   "metadata": {},
   "source": [
    "## 5、看下新房看房订单分布-新房没这业务。。。"
   ]
  },
  {
   "cell_type": "code",
   "execution_count": null,
   "metadata": {},
   "outputs": [],
   "source": []
  }
 ],
 "metadata": {
  "kernelspec": {
   "display_name": "Python 3",
   "language": "python",
   "name": "python3"
  },
  "language_info": {
   "codemirror_mode": {
    "name": "ipython",
    "version": 3
   },
   "file_extension": ".py",
   "mimetype": "text/x-python",
   "name": "python",
   "nbconvert_exporter": "python",
   "pygments_lexer": "ipython3",
   "version": "3.8.5"
  }
 },
 "nbformat": 4,
 "nbformat_minor": 4
}
