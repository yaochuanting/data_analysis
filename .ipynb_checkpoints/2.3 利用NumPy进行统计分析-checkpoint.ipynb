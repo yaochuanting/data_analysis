{
 "cells": [
  {
   "cell_type": "markdown",
   "metadata": {},
   "source": [
    "NumPy的文件读/写主要有二进制的文件读/写和文件列表形式的数据读/写两种形式。学会读/写文件是利用NumPy进行数据处理的基础。NumPy提供了若干函数，可以把结果保存到二进制或文本文件中。除此之外，NumPy还提供了许多从文件读取数据并将其转换为数组的方法。"
   ]
  },
  {
   "cell_type": "markdown",
   "metadata": {},
   "source": [
    "save函数以二进制的格式保存数据，load函数从二进制的文件中读取数据。"
   ]
  },
  {
   "cell_type": "markdown",
   "metadata": {},
   "source": [
    "np.save(file, arr, allow_pickle=True, fix_imports=True)"
   ]
  },
  {
   "cell_type": "markdown",
   "metadata": {},
   "source": [
    "参数 file 为要保存的文件的名称，需要指定文件保存的路径，如果未设置，则保存到默认路径下面；参数arr为需要保存的数组。简而言之，就是把数组arr保存至名称为“file”的文件中，其文件的扩展名.npy是系统自动添加的。"
   ]
  },
  {
   "cell_type": "code",
   "execution_count": 1,
   "metadata": {},
   "outputs": [],
   "source": [
    "import numpy as np"
   ]
  },
  {
   "cell_type": "code",
   "execution_count": 3,
   "metadata": {},
   "outputs": [
    {
     "name": "stdout",
     "output_type": "stream",
     "text": [
      "保存的数组为：\n",
      " [[ 0  1  2  3  4  5  6  7  8  9]\n",
      " [10 11 12 13 14 15 16 17 18 19]\n",
      " [20 21 22 23 24 25 26 27 28 29]\n",
      " [30 31 32 33 34 35 36 37 38 39]\n",
      " [40 41 42 43 44 45 46 47 48 49]\n",
      " [50 51 52 53 54 55 56 57 58 59]\n",
      " [60 61 62 63 64 65 66 67 68 69]\n",
      " [70 71 72 73 74 75 76 77 78 79]\n",
      " [80 81 82 83 84 85 86 87 88 89]\n",
      " [90 91 92 93 94 95 96 97 98 99]]\n"
     ]
    }
   ],
   "source": [
    "arr = np.arange(100).reshape(10,10)\n",
    "np.save('./savedir/2.3_save_arr', arr)\n",
    "print('保存的数组为：\\n', arr)"
   ]
  },
  {
   "cell_type": "code",
   "execution_count": 4,
   "metadata": {},
   "outputs": [
    {
     "name": "stdout",
     "output_type": "stream",
     "text": [
      "保存的数组1为：\n",
      " [[1 2 3]\n",
      " [4 5 6]]\n",
      "保存的数组2为：\n",
      " [0.  0.1 0.2 0.3 0.4 0.5 0.6 0.7 0.8 0.9]\n"
     ]
    }
   ],
   "source": [
    "arr1 = np.array([[1,2,3], [4,5,6]])\n",
    "arr2 = np.arange(0,1.0,0.1)\n",
    "np.savez('./savedir/2.3_savez_arr', arr1, arr2)\n",
    "print('保存的数组1为：\\n', arr1)\n",
    "print('保存的数组2为：\\n', arr2)"
   ]
  },
  {
   "cell_type": "markdown",
   "metadata": {},
   "source": [
    "load函数读取二进制文件，文件名作为参数。"
   ]
  },
  {
   "cell_type": "code",
   "execution_count": 5,
   "metadata": {},
   "outputs": [
    {
     "name": "stdout",
     "output_type": "stream",
     "text": [
      "读取的数组为：\n",
      " [[ 0  1  2  3  4  5  6  7  8  9]\n",
      " [10 11 12 13 14 15 16 17 18 19]\n",
      " [20 21 22 23 24 25 26 27 28 29]\n",
      " [30 31 32 33 34 35 36 37 38 39]\n",
      " [40 41 42 43 44 45 46 47 48 49]\n",
      " [50 51 52 53 54 55 56 57 58 59]\n",
      " [60 61 62 63 64 65 66 67 68 69]\n",
      " [70 71 72 73 74 75 76 77 78 79]\n",
      " [80 81 82 83 84 85 86 87 88 89]\n",
      " [90 91 92 93 94 95 96 97 98 99]]\n"
     ]
    }
   ],
   "source": [
    "loaded_data = np.load('./savedir/2.3_save_arr.npy')\n",
    "print('读取的数组为：\\n', loaded_date)"
   ]
  },
  {
   "cell_type": "code",
   "execution_count": 6,
   "metadata": {},
   "outputs": [
    {
     "name": "stdout",
     "output_type": "stream",
     "text": [
      "读取的数组1为：\n",
      " [[1 2 3]\n",
      " [4 5 6]]\n"
     ]
    }
   ],
   "source": [
    "loaded_data1 = np.load('./savedir/2.3_savez_arr.npz')\n",
    "print('读取的数组1为：\\n', loaded_data1['arr_0'])"
   ]
  },
  {
   "cell_type": "code",
   "execution_count": 8,
   "metadata": {},
   "outputs": [
    {
     "name": "stdout",
     "output_type": "stream",
     "text": [
      "读取的数组2为：\n",
      " [0.  0.1 0.2 0.3 0.4 0.5 0.6 0.7 0.8 0.9]\n"
     ]
    }
   ],
   "source": [
    "print('读取的数组2为：\\n', loaded_data1['arr_1'])"
   ]
  },
  {
   "cell_type": "markdown",
   "metadata": {},
   "source": [
    "savetxt函数可将数组写到以某种分隔符隔开的文本文件中，语法格式如下："
   ]
  },
  {
   "cell_type": "markdown",
   "metadata": {},
   "source": [
    "np.savetxt(fname, X, fmt='%.18e', delimiter=' ',newline='\\n', header='',footer='', comments='# ')"
   ]
  },
  {
   "cell_type": "markdown",
   "metadata": {},
   "source": [
    "第一个参数是文件名“fname”，第二个参数X为数组数据，第四个参数为数据分隔符“delimiter”。"
   ]
  },
  {
   "cell_type": "markdown",
   "metadata": {},
   "source": [
    "loadtxt函数执行的是相反的操作，即把文件加载到一个二维数组中。"
   ]
  },
  {
   "cell_type": "code",
   "execution_count": 9,
   "metadata": {},
   "outputs": [
    {
     "name": "stdout",
     "output_type": "stream",
     "text": [
      "创建的数组为：\n",
      " [[ 0.   0.5  1.   1.5  2.   2.5]\n",
      " [ 3.   3.5  4.   4.5  5.   5.5]\n",
      " [ 6.   6.5  7.   7.5  8.   8.5]\n",
      " [ 9.   9.5 10.  10.5 11.  11.5]]\n"
     ]
    }
   ],
   "source": [
    "arr = np.arange(-0, 12, 0.5).reshape(4, -1)\n",
    "print('创建的数组为：\\n', arr)"
   ]
  },
  {
   "cell_type": "code",
   "execution_count": 10,
   "metadata": {},
   "outputs": [
    {
     "name": "stdout",
     "output_type": "stream",
     "text": [
      "读取的数组为：\n",
      " [[ 0.  0.  1.  1.  2.  2.]\n",
      " [ 3.  3.  4.  4.  5.  5.]\n",
      " [ 6.  6.  7.  7.  8.  8.]\n",
      " [ 9.  9. 10. 10. 11. 11.]]\n"
     ]
    }
   ],
   "source": [
    "# fmt=\"%d\"表示保存为整数\n",
    "np.savetxt('./savedir/2.3_arr.txt', arr, fmt='%d', delimiter=',')\n",
    "# 读入的时候也需要制定逗号分隔符\n",
    "loaded_data = np.loadtxt('./savedir/2.3_arr.txt', delimiter=',')\n",
    "print('读取的数组为：\\n', loaded_data)"
   ]
  },
  {
   "cell_type": "markdown",
   "metadata": {},
   "source": [
    "genfromtxt函数和loadtxt函数相似，不过它面向的是结构化数组和缺失数据。它通常使用的参数有3个，即存放数据的文件名参数“fname”、用于分隔的字符参数“delimiter”和是否含有列标题参数“names”。"
   ]
  },
  {
   "cell_type": "markdown",
   "metadata": {},
   "source": [
    "输出的结果是一组结构化的数据（结构化数组可以用 dtype 选项指定一系列用逗号隔开的说明符，指明构成结构体的元素以及它们的数据类型和顺序），数据从第二行开始。因为names参数默认第一行为数据的列名，所以数据从第二行开始。"
   ]
  },
  {
   "cell_type": "code",
   "execution_count": 12,
   "metadata": {},
   "outputs": [
    {
     "name": "stdout",
     "output_type": "stream",
     "text": [
      "读取数组为：\n",
      " [[ 0.  0.  1.  1.  2.  2.]\n",
      " [ 3.  3.  4.  4.  5.  5.]\n",
      " [ 6.  6.  7.  7.  8.  8.]\n",
      " [ 9.  9. 10. 10. 11. 11.]]\n"
     ]
    }
   ],
   "source": [
    "loaded_data = np.genfromtxt('./savedir/2.3_arr.txt', delimiter=',')\n",
    "print('读取数组为：\\n', loaded_data)"
   ]
  },
  {
   "cell_type": "markdown",
   "metadata": {},
   "source": [
    "NumPy的排序方式主要可以概括为直接排序和间接排序两种。直接排序指对数值直接进行排序；间接排序是指根据一个或多个键对数据集进行排序。"
   ]
  },
  {
   "cell_type": "markdown",
   "metadata": {},
   "source": [
    "sort函数是最常用的排序方法，无返回值。如果目标函数是一个视图，则原始数据将会被修改。使用sort函数排序时可以指定一个axis参数，使得sort函数可以沿着指定轴对数据集进行排序。"
   ]
  },
  {
   "cell_type": "code",
   "execution_count": 13,
   "metadata": {},
   "outputs": [
    {
     "name": "stdout",
     "output_type": "stream",
     "text": [
      "创建的数组为：\n",
      " [7 4 8 5 7 3 7 8 5 4]\n"
     ]
    }
   ],
   "source": [
    "# 设置随机种子\n",
    "np.random.seed(42)\n",
    "# 生成随机数组\n",
    "arr = np.random.randint(1, 10, size=10)\n",
    "print('创建的数组为：\\n', arr)"
   ]
  },
  {
   "cell_type": "code",
   "execution_count": 14,
   "metadata": {},
   "outputs": [
    {
     "name": "stdout",
     "output_type": "stream",
     "text": [
      "排序后数组为：\n",
      " [3 4 4 5 5 7 7 7 8 8]\n"
     ]
    }
   ],
   "source": [
    "# 直接排序\n",
    "arr.sort()\n",
    "print('排序后数组为：\\n', arr)"
   ]
  },
  {
   "cell_type": "code",
   "execution_count": 15,
   "metadata": {},
   "outputs": [
    {
     "name": "stdout",
     "output_type": "stream",
     "text": [
      "创建的数组为：\n",
      " [[8 8 3]\n",
      " [6 5 2]\n",
      " [8 6 2]]\n"
     ]
    }
   ],
   "source": [
    "# 生成3行3列的随机数组\n",
    "arr = np.random.randint(1, 10, size=(3,3))\n",
    "print('创建的数组为：\\n', arr)"
   ]
  },
  {
   "cell_type": "code",
   "execution_count": 16,
   "metadata": {},
   "outputs": [
    {
     "name": "stdout",
     "output_type": "stream",
     "text": [
      "创建的数组为：\n",
      " [[3 8 8]\n",
      " [2 5 6]\n",
      " [2 6 8]]\n"
     ]
    }
   ],
   "source": [
    "# 沿着横轴排序\n",
    "arr.sort(axis=1)\n",
    "print('创建的数组为：\\n', arr)"
   ]
  },
  {
   "cell_type": "code",
   "execution_count": 17,
   "metadata": {},
   "outputs": [
    {
     "name": "stdout",
     "output_type": "stream",
     "text": [
      "创建的数组为：\n",
      " [[2 5 6]\n",
      " [2 6 8]\n",
      " [3 8 8]]\n"
     ]
    }
   ],
   "source": [
    "# 沿着纵轴排序\n",
    "arr.sort(axis=0)\n",
    "print('创建的数组为：\\n', arr)"
   ]
  },
  {
   "cell_type": "markdown",
   "metadata": {},
   "source": [
    "使用argsort函数和lexsort函数，可以在给定一个或多个键时，得到一个由整数构成的索引数组，索引值表示数据在新的序列中的位置。"
   ]
  },
  {
   "cell_type": "code",
   "execution_count": 18,
   "metadata": {},
   "outputs": [
    {
     "name": "stdout",
     "output_type": "stream",
     "text": [
      "创建的数组为：\n",
      " [2 3 6 8 0 7]\n"
     ]
    }
   ],
   "source": [
    "arr = np.array([2,3,6,8,0,7])\n",
    "print('创建的数组为：\\n', arr)"
   ]
  },
  {
   "cell_type": "code",
   "execution_count": 20,
   "metadata": {},
   "outputs": [
    {
     "name": "stdout",
     "output_type": "stream",
     "text": [
      "排序后的数组为：\n",
      " [4 0 1 2 5 3]\n"
     ]
    }
   ],
   "source": [
    "# 返回值为重新排序的下标\n",
    "print('排序后的数组为：\\n', arr.argsort())"
   ]
  },
  {
   "cell_type": "markdown",
   "metadata": {},
   "source": [
    "lexsort函数可以一次性对满足多个键的数组执行间接排序。"
   ]
  },
  {
   "cell_type": "code",
   "execution_count": 22,
   "metadata": {},
   "outputs": [
    {
     "name": "stdout",
     "output_type": "stream",
     "text": [
      "排序后数组为：\n",
      " [(4, 20, 100), (5, 10, 200), (2, 40, 300), (3, 50, 400), (6, 30, 600)]\n"
     ]
    }
   ],
   "source": [
    "a = np.array([3, 2, 6, 4, 5])\n",
    "b = np.array([50, 40, 30, 20, 10])\n",
    "c = np.array([400, 300, 600, 100, 200])\n",
    "# lexsort函数只接受一个参数，即（a,b,c）\n",
    "# 多个键值排序时是按照最后一个传入数据计算\n",
    "d = np.lexsort((a, b, c))\n",
    "print('排序后数组为：\\n', list(zip(a[d], b[d], c[d])))"
   ]
  },
  {
   "cell_type": "markdown",
   "metadata": {},
   "source": [
    "在统计分析的工作中，难免会出现“脏”数据的情况。重复数据就是“脏”数据的情况之一。若一个一个地手动删除，耗时费力，效率低。在NumPy中，可以通过unique函数找出数组中的唯一值并返回已排序的结果。"
   ]
  },
  {
   "cell_type": "code",
   "execution_count": 23,
   "metadata": {},
   "outputs": [
    {
     "name": "stdout",
     "output_type": "stream",
     "text": [
      "创建的数组为：\n",
      " ['小明' '小黄' '小花' '小明' '小花']\n"
     ]
    }
   ],
   "source": [
    "names = np.array(['小明', '小黄', '小花', '小明', '小花'])\n",
    "print('创建的数组为：\\n', names)"
   ]
  },
  {
   "cell_type": "code",
   "execution_count": 24,
   "metadata": {},
   "outputs": [
    {
     "name": "stdout",
     "output_type": "stream",
     "text": [
      "去重后数组为：\n",
      " ['小明' '小花' '小黄']\n",
      "去重后数组为：\n",
      " ['小明', '小花', '小黄']\n"
     ]
    }
   ],
   "source": [
    "print('去重后数组为：\\n', np.unique(names))\n",
    "print('去重后数组为：\\n', sorted(set(names)))"
   ]
  },
  {
   "cell_type": "code",
   "execution_count": 25,
   "metadata": {},
   "outputs": [
    {
     "name": "stdout",
     "output_type": "stream",
     "text": [
      "创建的数组为：\n",
      " [ 1  2  3  4  4  5  6  6  7  8  8  9 10]\n"
     ]
    }
   ],
   "source": [
    "# 创建数值型数据\n",
    "ints = np.array([1, 2, 3, 4, 4, 5, 6, 6, 7, 8, 8, 9, 10])\n",
    "print('创建的数组为：\\n', ints)"
   ]
  },
  {
   "cell_type": "code",
   "execution_count": 26,
   "metadata": {},
   "outputs": [
    {
     "name": "stdout",
     "output_type": "stream",
     "text": [
      "去重后的数组为：\n",
      " [ 1  2  3  4  5  6  7  8  9 10]\n"
     ]
    }
   ],
   "source": [
    "print('去重后的数组为：\\n', np.unique(ints))"
   ]
  },
  {
   "cell_type": "markdown",
   "metadata": {},
   "source": [
    "另一种情况，在统计分析中也经常遇到，即需要把一个数据重复若干次。在 NumPy中主要使用tile函数和repeat函数实现数据重复。"
   ]
  },
  {
   "cell_type": "markdown",
   "metadata": {},
   "source": [
    "tile函数主要有两个参数，参数“A”指定重复的数组，参数“reps”指定重复的次数。"
   ]
  },
  {
   "cell_type": "markdown",
   "metadata": {},
   "source": [
    "tile函数的格式如下：numpy.tile(A, reps)"
   ]
  },
  {
   "cell_type": "code",
   "execution_count": 27,
   "metadata": {},
   "outputs": [
    {
     "name": "stdout",
     "output_type": "stream",
     "text": [
      "创建的数组为： [0 1 2 3 4]\n"
     ]
    }
   ],
   "source": [
    "arr = np.arange(5)\n",
    "print('创建的数组为：', arr)"
   ]
  },
  {
   "cell_type": "code",
   "execution_count": 28,
   "metadata": {},
   "outputs": [
    {
     "name": "stdout",
     "output_type": "stream",
     "text": [
      "重复后的数组为： [0 1 2 3 4 0 1 2 3 4 0 1 2 3 4]\n"
     ]
    }
   ],
   "source": [
    "print('重复后的数组为：', np.tile(arr, 3))"
   ]
  },
  {
   "cell_type": "markdown",
   "metadata": {},
   "source": [
    "repeat函数主要有3个参数，参数“a”指定需要重复的数组元素，参数“repeats”指定重复次数，参数“axis”指定沿着哪个轴进行重复。"
   ]
  },
  {
   "cell_type": "markdown",
   "metadata": {},
   "source": [
    "repeat函数的格式如下：numpy.repeat(a, repeats, axis=None)"
   ]
  },
  {
   "cell_type": "code",
   "execution_count": 30,
   "metadata": {},
   "outputs": [
    {
     "name": "stdout",
     "output_type": "stream",
     "text": [
      "创建的数组为：\n",
      " [[6 3 7]\n",
      " [4 6 9]\n",
      " [2 6 7]]\n"
     ]
    }
   ],
   "source": [
    "# 设置随机种子\n",
    "np.random.seed(42)\n",
    "arr = np.random.randint(0, 10, size=(3,3))\n",
    "print('创建的数组为：\\n', arr)"
   ]
  },
  {
   "cell_type": "code",
   "execution_count": 32,
   "metadata": {},
   "outputs": [
    {
     "name": "stdout",
     "output_type": "stream",
     "text": [
      "重复后的数组为：\n",
      " [[6 3 7]\n",
      " [6 3 7]\n",
      " [4 6 9]\n",
      " [4 6 9]\n",
      " [2 6 7]\n",
      " [2 6 7]]\n"
     ]
    }
   ],
   "source": [
    "# 按行进行元素重复\n",
    "print('重复后的数组为：\\n', arr.repeat(2, axis=0))"
   ]
  },
  {
   "cell_type": "code",
   "execution_count": 33,
   "metadata": {},
   "outputs": [
    {
     "name": "stdout",
     "output_type": "stream",
     "text": [
      "重复后的数组为：\n",
      " [[6 6 3 3 7 7]\n",
      " [4 4 6 6 9 9]\n",
      " [2 2 6 6 7 7]]\n"
     ]
    }
   ],
   "source": [
    "# 按列进行元素重复\n",
    "print('重复后的数组为：\\n', arr.repeat(2, axis=1))"
   ]
  },
  {
   "cell_type": "markdown",
   "metadata": {},
   "source": [
    "**这两个函数的主要区别在于，tile函数是对数组进行重复操作，repeat函数是对数组中的每个元素进行重复操作。**"
   ]
  },
  {
   "cell_type": "markdown",
   "metadata": {},
   "source": [
    "常用统计函数"
   ]
  },
  {
   "cell_type": "code",
   "execution_count": 35,
   "metadata": {},
   "outputs": [
    {
     "name": "stdout",
     "output_type": "stream",
     "text": [
      "创建的数组为：\n",
      " [[ 0  1  2  3  4]\n",
      " [ 5  6  7  8  9]\n",
      " [10 11 12 13 14]\n",
      " [15 16 17 18 19]]\n"
     ]
    }
   ],
   "source": [
    "arr = np.arange(20).reshape(4, 5)\n",
    "print('创建的数组为：\\n', arr)"
   ]
  },
  {
   "cell_type": "code",
   "execution_count": 36,
   "metadata": {},
   "outputs": [
    {
     "name": "stdout",
     "output_type": "stream",
     "text": [
      "数组的和为： 190\n"
     ]
    }
   ],
   "source": [
    "print('数组的和为：', np.sum(arr))"
   ]
  },
  {
   "cell_type": "code",
   "execution_count": 37,
   "metadata": {},
   "outputs": [
    {
     "name": "stdout",
     "output_type": "stream",
     "text": [
      "数组的纵轴和为： [30 34 38 42 46]\n"
     ]
    }
   ],
   "source": [
    "print('数组的纵轴和为：', np.sum(arr, axis=0))"
   ]
  },
  {
   "cell_type": "code",
   "execution_count": 38,
   "metadata": {},
   "outputs": [
    {
     "name": "stdout",
     "output_type": "stream",
     "text": [
      "数组的横轴和为： [10 35 60 85]\n"
     ]
    }
   ],
   "source": [
    "print('数组的横轴和为：', np.sum(arr, axis=1))"
   ]
  },
  {
   "cell_type": "code",
   "execution_count": 39,
   "metadata": {},
   "outputs": [
    {
     "name": "stdout",
     "output_type": "stream",
     "text": [
      "数组的均值为： 9.5\n"
     ]
    }
   ],
   "source": [
    "print('数组的均值为：', np.mean(arr))"
   ]
  },
  {
   "cell_type": "code",
   "execution_count": 40,
   "metadata": {},
   "outputs": [
    {
     "name": "stdout",
     "output_type": "stream",
     "text": [
      "数组的纵轴均值为： [ 7.5  8.5  9.5 10.5 11.5]\n"
     ]
    }
   ],
   "source": [
    "print('数组的纵轴均值为：', np.mean(arr, axis=0))"
   ]
  },
  {
   "cell_type": "code",
   "execution_count": 41,
   "metadata": {},
   "outputs": [
    {
     "name": "stdout",
     "output_type": "stream",
     "text": [
      "数组的横轴均值为： [ 2.  7. 12. 17.]\n"
     ]
    }
   ],
   "source": [
    "print('数组的横轴均值为：', np.mean(arr, axis=1))"
   ]
  },
  {
   "cell_type": "code",
   "execution_count": null,
   "metadata": {},
   "outputs": [],
   "source": []
  }
 ],
 "metadata": {
  "kernelspec": {
   "display_name": "Python 3",
   "language": "python",
   "name": "python3"
  },
  "language_info": {
   "codemirror_mode": {
    "name": "ipython",
    "version": 3
   },
   "file_extension": ".py",
   "mimetype": "text/x-python",
   "name": "python",
   "nbconvert_exporter": "python",
   "pygments_lexer": "ipython3",
   "version": "3.7.3"
  },
  "toc": {
   "base_numbering": 1,
   "nav_menu": {},
   "number_sections": true,
   "sideBar": true,
   "skip_h1_title": false,
   "title_cell": "Table of Contents",
   "title_sidebar": "Contents",
   "toc_cell": false,
   "toc_position": {},
   "toc_section_display": true,
   "toc_window_display": false
  }
 },
 "nbformat": 4,
 "nbformat_minor": 2
}
