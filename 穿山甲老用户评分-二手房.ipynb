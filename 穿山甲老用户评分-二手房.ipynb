{
 "cells": [
  {
   "cell_type": "code",
   "execution_count": 1,
   "metadata": {},
   "outputs": [],
   "source": [
    "import pandas as pd\n",
    "import numpy as np\n",
    "import matplotlib.pyplot as plt\n",
    "import math\n",
    "from numpy import array"
   ]
  },
  {
   "cell_type": "code",
   "execution_count": 2,
   "metadata": {},
   "outputs": [
    {
     "data": {
      "text/html": [
       "<div>\n",
       "<style scoped>\n",
       "    .dataframe tbody tr th:only-of-type {\n",
       "        vertical-align: middle;\n",
       "    }\n",
       "\n",
       "    .dataframe tbody tr th {\n",
       "        vertical-align: top;\n",
       "    }\n",
       "\n",
       "    .dataframe thead th {\n",
       "        text-align: right;\n",
       "    }\n",
       "</style>\n",
       "<table border=\"1\" class=\"dataframe\">\n",
       "  <thead>\n",
       "    <tr style=\"text-align: right;\">\n",
       "      <th></th>\n",
       "      <th>muid</th>\n",
       "      <th>imei_md5</th>\n",
       "      <th>oaid</th>\n",
       "      <th>origin_imei</th>\n",
       "      <th>os_type</th>\n",
       "      <th>vppv_esf</th>\n",
       "      <th>active_days_esf</th>\n",
       "      <th>guanzhu_esf</th>\n",
       "      <th>session_num_esf</th>\n",
       "      <th>takelook_order_esf</th>\n",
       "      <th>cal_dt</th>\n",
       "    </tr>\n",
       "  </thead>\n",
       "  <tbody>\n",
       "    <tr>\n",
       "      <th>0</th>\n",
       "      <td>a-ajk,00042bf985ee7d88,</td>\n",
       "      <td>00042bf985ee7d88</td>\n",
       "      <td>ffbbff7c-fffd-a054-bf3b-eb9fafef165e</td>\n",
       "      <td>867834046042564</td>\n",
       "      <td>android</td>\n",
       "      <td>91</td>\n",
       "      <td>3</td>\n",
       "      <td>0</td>\n",
       "      <td>0</td>\n",
       "      <td>0</td>\n",
       "      <td>2021-05-05</td>\n",
       "    </tr>\n",
       "    <tr>\n",
       "      <th>1</th>\n",
       "      <td>a-ajk,000583ef5b66b6da,000583ef5b66b6da</td>\n",
       "      <td>000583ef5b66b6da</td>\n",
       "      <td>fa3c3e37-fd8d-0e2a-f7ff-febda376c9b9</td>\n",
       "      <td>861737043502785</td>\n",
       "      <td>android</td>\n",
       "      <td>0</td>\n",
       "      <td>0</td>\n",
       "      <td>0</td>\n",
       "      <td>0</td>\n",
       "      <td>0</td>\n",
       "      <td>2021-05-05</td>\n",
       "    </tr>\n",
       "    <tr>\n",
       "      <th>2</th>\n",
       "      <td>a-ajk,00086270a94d1812,00086270a94d1812</td>\n",
       "      <td>00086270a94d1812</td>\n",
       "      <td>558056f4f686e53386b1e3bf88c7daf58cbc7adfc506ce...</td>\n",
       "      <td>NaN</td>\n",
       "      <td>android</td>\n",
       "      <td>0</td>\n",
       "      <td>0</td>\n",
       "      <td>0</td>\n",
       "      <td>0</td>\n",
       "      <td>0</td>\n",
       "      <td>2021-05-05</td>\n",
       "    </tr>\n",
       "    <tr>\n",
       "      <th>3</th>\n",
       "      <td>a-ajk,000c9dec98080e95,000c9dec98080e95</td>\n",
       "      <td>000c9dec98080e95</td>\n",
       "      <td>75b3e08b83d1d58d741acead0e46f9120c913565cb208b...</td>\n",
       "      <td>865438043237979</td>\n",
       "      <td>android</td>\n",
       "      <td>0</td>\n",
       "      <td>0</td>\n",
       "      <td>0</td>\n",
       "      <td>0</td>\n",
       "      <td>0</td>\n",
       "      <td>2021-05-05</td>\n",
       "    </tr>\n",
       "    <tr>\n",
       "      <th>4</th>\n",
       "      <td>a-ajk,0022bc6b1dea0aca,0022bc6b1dea0aca</td>\n",
       "      <td>0022bc6b1dea0aca</td>\n",
       "      <td>ee3faa27-5fff-dbae-6fcd-6ccbf5f08972</td>\n",
       "      <td>NaN</td>\n",
       "      <td>android</td>\n",
       "      <td>0</td>\n",
       "      <td>0</td>\n",
       "      <td>0</td>\n",
       "      <td>0</td>\n",
       "      <td>0</td>\n",
       "      <td>2021-05-05</td>\n",
       "    </tr>\n",
       "  </tbody>\n",
       "</table>\n",
       "</div>"
      ],
      "text/plain": [
       "                                      muid          imei_md5  \\\n",
       "0                  a-ajk,00042bf985ee7d88,  00042bf985ee7d88   \n",
       "1  a-ajk,000583ef5b66b6da,000583ef5b66b6da  000583ef5b66b6da   \n",
       "2  a-ajk,00086270a94d1812,00086270a94d1812  00086270a94d1812   \n",
       "3  a-ajk,000c9dec98080e95,000c9dec98080e95  000c9dec98080e95   \n",
       "4  a-ajk,0022bc6b1dea0aca,0022bc6b1dea0aca  0022bc6b1dea0aca   \n",
       "\n",
       "                                                oaid      origin_imei  \\\n",
       "0               ffbbff7c-fffd-a054-bf3b-eb9fafef165e  867834046042564   \n",
       "1               fa3c3e37-fd8d-0e2a-f7ff-febda376c9b9  861737043502785   \n",
       "2  558056f4f686e53386b1e3bf88c7daf58cbc7adfc506ce...              NaN   \n",
       "3  75b3e08b83d1d58d741acead0e46f9120c913565cb208b...  865438043237979   \n",
       "4               ee3faa27-5fff-dbae-6fcd-6ccbf5f08972              NaN   \n",
       "\n",
       "   os_type  vppv_esf  active_days_esf  guanzhu_esf  session_num_esf  \\\n",
       "0  android        91                3            0                0   \n",
       "1  android         0                0            0                0   \n",
       "2  android         0                0            0                0   \n",
       "3  android         0                0            0                0   \n",
       "4  android         0                0            0                0   \n",
       "\n",
       "   takelook_order_esf      cal_dt  \n",
       "0                   0  2021-05-05  \n",
       "1                   0  2021-05-05  \n",
       "2                   0  2021-05-05  \n",
       "3                   0  2021-05-05  \n",
       "4                   0  2021-05-05  "
      ]
     },
     "execution_count": 2,
     "metadata": {},
     "output_type": "execute_result"
    }
   ],
   "source": [
    "# 读取数据\n",
    "esf_olduser_index = pd.read_table('./files/chuanshanjia_esf_muid.txt')\n",
    "esf_olduser_index.head()"
   ]
  },
  {
   "cell_type": "markdown",
   "metadata": {},
   "source": [
    "# 一、二手房指标部分"
   ]
  },
  {
   "cell_type": "markdown",
   "metadata": {},
   "source": [
    "## 1、先看二手房整体数据的统计描述"
   ]
  },
  {
   "cell_type": "code",
   "execution_count": 3,
   "metadata": {},
   "outputs": [
    {
     "data": {
      "text/html": [
       "<div>\n",
       "<style scoped>\n",
       "    .dataframe tbody tr th:only-of-type {\n",
       "        vertical-align: middle;\n",
       "    }\n",
       "\n",
       "    .dataframe tbody tr th {\n",
       "        vertical-align: top;\n",
       "    }\n",
       "\n",
       "    .dataframe thead th {\n",
       "        text-align: right;\n",
       "    }\n",
       "</style>\n",
       "<table border=\"1\" class=\"dataframe\">\n",
       "  <thead>\n",
       "    <tr style=\"text-align: right;\">\n",
       "      <th></th>\n",
       "      <th>vppv_esf</th>\n",
       "      <th>active_days_esf</th>\n",
       "      <th>guanzhu_esf</th>\n",
       "      <th>session_num_esf</th>\n",
       "      <th>takelook_order_esf</th>\n",
       "    </tr>\n",
       "  </thead>\n",
       "  <tbody>\n",
       "    <tr>\n",
       "      <th>count</th>\n",
       "      <td>1.717825e+06</td>\n",
       "      <td>1.717825e+06</td>\n",
       "      <td>1.717825e+06</td>\n",
       "      <td>1.717825e+06</td>\n",
       "      <td>1.717825e+06</td>\n",
       "    </tr>\n",
       "    <tr>\n",
       "      <th>mean</th>\n",
       "      <td>4.505645e+00</td>\n",
       "      <td>4.621862e-01</td>\n",
       "      <td>2.627276e-02</td>\n",
       "      <td>1.130563e-01</td>\n",
       "      <td>1.897166e-03</td>\n",
       "    </tr>\n",
       "    <tr>\n",
       "      <th>std</th>\n",
       "      <td>2.836748e+01</td>\n",
       "      <td>1.100633e+00</td>\n",
       "      <td>6.837140e-01</td>\n",
       "      <td>3.782881e+00</td>\n",
       "      <td>1.065023e-01</td>\n",
       "    </tr>\n",
       "    <tr>\n",
       "      <th>min</th>\n",
       "      <td>0.000000e+00</td>\n",
       "      <td>0.000000e+00</td>\n",
       "      <td>0.000000e+00</td>\n",
       "      <td>0.000000e+00</td>\n",
       "      <td>0.000000e+00</td>\n",
       "    </tr>\n",
       "    <tr>\n",
       "      <th>25%</th>\n",
       "      <td>0.000000e+00</td>\n",
       "      <td>0.000000e+00</td>\n",
       "      <td>0.000000e+00</td>\n",
       "      <td>0.000000e+00</td>\n",
       "      <td>0.000000e+00</td>\n",
       "    </tr>\n",
       "    <tr>\n",
       "      <th>50%</th>\n",
       "      <td>0.000000e+00</td>\n",
       "      <td>0.000000e+00</td>\n",
       "      <td>0.000000e+00</td>\n",
       "      <td>0.000000e+00</td>\n",
       "      <td>0.000000e+00</td>\n",
       "    </tr>\n",
       "    <tr>\n",
       "      <th>75%</th>\n",
       "      <td>0.000000e+00</td>\n",
       "      <td>0.000000e+00</td>\n",
       "      <td>0.000000e+00</td>\n",
       "      <td>0.000000e+00</td>\n",
       "      <td>0.000000e+00</td>\n",
       "    </tr>\n",
       "    <tr>\n",
       "      <th>max</th>\n",
       "      <td>7.235000e+03</td>\n",
       "      <td>7.000000e+00</td>\n",
       "      <td>2.090000e+02</td>\n",
       "      <td>1.834000e+03</td>\n",
       "      <td>4.200000e+01</td>\n",
       "    </tr>\n",
       "  </tbody>\n",
       "</table>\n",
       "</div>"
      ],
      "text/plain": [
       "           vppv_esf  active_days_esf   guanzhu_esf  session_num_esf  \\\n",
       "count  1.717825e+06     1.717825e+06  1.717825e+06     1.717825e+06   \n",
       "mean   4.505645e+00     4.621862e-01  2.627276e-02     1.130563e-01   \n",
       "std    2.836748e+01     1.100633e+00  6.837140e-01     3.782881e+00   \n",
       "min    0.000000e+00     0.000000e+00  0.000000e+00     0.000000e+00   \n",
       "25%    0.000000e+00     0.000000e+00  0.000000e+00     0.000000e+00   \n",
       "50%    0.000000e+00     0.000000e+00  0.000000e+00     0.000000e+00   \n",
       "75%    0.000000e+00     0.000000e+00  0.000000e+00     0.000000e+00   \n",
       "max    7.235000e+03     7.000000e+00  2.090000e+02     1.834000e+03   \n",
       "\n",
       "       takelook_order_esf  \n",
       "count        1.717825e+06  \n",
       "mean         1.897166e-03  \n",
       "std          1.065023e-01  \n",
       "min          0.000000e+00  \n",
       "25%          0.000000e+00  \n",
       "50%          0.000000e+00  \n",
       "75%          0.000000e+00  \n",
       "max          4.200000e+01  "
      ]
     },
     "execution_count": 3,
     "metadata": {},
     "output_type": "execute_result"
    }
   ],
   "source": [
    "esf_olduser_index.describe()"
   ]
  },
  {
   "cell_type": "markdown",
   "metadata": {},
   "source": [
    "## 2、再看二手房vppv数据分布"
   ]
  },
  {
   "cell_type": "code",
   "execution_count": 12,
   "metadata": {},
   "outputs": [],
   "source": [
    "# 存放vcpv数据\n",
    "vppv_array = np.array(esf_olduser_index.loc[:,'vppv_esf'])\n",
    "vppv_not0_array = vppv_array[vppv_array>0]  # vppv大于0的vppv分布情况"
   ]
  },
  {
   "cell_type": "code",
   "execution_count": 13,
   "metadata": {},
   "outputs": [
    {
     "data": {
      "text/plain": [
       "array([  1.,   1.,   1.,   2.,   3.,   5.,  10.,  19.,  45., 248.])"
      ]
     },
     "execution_count": 13,
     "metadata": {},
     "output_type": "execute_result"
    }
   ],
   "source": [
    "# 存放vppv百分位数,90%的数据都在45以下\n",
    "# 箱线图剔除异常值的方式不可用，因为分布严重左偏——会把大部分数据判断为异常值\n",
    "vppv_pct = np.array([np.percentile(vppv_not0_array, 10)\n",
    "                       ,np.percentile(vppv_not0_array, 20)\n",
    "                       ,np.percentile(vppv_not0_array, 30)\n",
    "                       ,np.percentile(vppv_not0_array, 40)\n",
    "                       ,np.percentile(vppv_not0_array, 50)\n",
    "                       ,np.percentile(vppv_not0_array, 60)\n",
    "                       ,np.percentile(vppv_not0_array, 70)\n",
    "                       ,np.percentile(vppv_not0_array, 80)\n",
    "                       ,np.percentile(vppv_not0_array, 90)\n",
    "                       ,np.percentile(vppv_not0_array, 99)])\n",
    "vppv_pct"
   ]
  },
  {
   "cell_type": "code",
   "execution_count": 14,
   "metadata": {},
   "outputs": [
    {
     "data": {
      "text/html": [
       "<div>\n",
       "<style scoped>\n",
       "    .dataframe tbody tr th:only-of-type {\n",
       "        vertical-align: middle;\n",
       "    }\n",
       "\n",
       "    .dataframe tbody tr th {\n",
       "        vertical-align: top;\n",
       "    }\n",
       "\n",
       "    .dataframe thead th {\n",
       "        text-align: right;\n",
       "    }\n",
       "</style>\n",
       "<table border=\"1\" class=\"dataframe\">\n",
       "  <thead>\n",
       "    <tr style=\"text-align: right;\">\n",
       "      <th></th>\n",
       "      <th>vppv_esf</th>\n",
       "    </tr>\n",
       "  </thead>\n",
       "  <tbody>\n",
       "    <tr>\n",
       "      <th>count</th>\n",
       "      <td>1.677800e+06</td>\n",
       "    </tr>\n",
       "    <tr>\n",
       "      <th>mean</th>\n",
       "      <td>1.507224e+00</td>\n",
       "    </tr>\n",
       "    <tr>\n",
       "      <th>std</th>\n",
       "      <td>5.192366e+00</td>\n",
       "    </tr>\n",
       "    <tr>\n",
       "      <th>min</th>\n",
       "      <td>0.000000e+00</td>\n",
       "    </tr>\n",
       "    <tr>\n",
       "      <th>25%</th>\n",
       "      <td>0.000000e+00</td>\n",
       "    </tr>\n",
       "    <tr>\n",
       "      <th>50%</th>\n",
       "      <td>0.000000e+00</td>\n",
       "    </tr>\n",
       "    <tr>\n",
       "      <th>75%</th>\n",
       "      <td>0.000000e+00</td>\n",
       "    </tr>\n",
       "    <tr>\n",
       "      <th>max</th>\n",
       "      <td>4.500000e+01</td>\n",
       "    </tr>\n",
       "  </tbody>\n",
       "</table>\n",
       "</div>"
      ],
      "text/plain": [
       "           vppv_esf\n",
       "count  1.677800e+06\n",
       "mean   1.507224e+00\n",
       "std    5.192366e+00\n",
       "min    0.000000e+00\n",
       "25%    0.000000e+00\n",
       "50%    0.000000e+00\n",
       "75%    0.000000e+00\n",
       "max    4.500000e+01"
      ]
     },
     "execution_count": 14,
     "metadata": {},
     "output_type": "execute_result"
    }
   ],
   "source": [
    "# 剔除极端值之后的vppv统计值\n",
    "vppv_df = pd.DataFrame(esf_olduser_index.loc[:,'vppv_esf'])\n",
    "norm_vppv_df = vppv_df[vppv_df<=45]\n",
    "norm_vppv_df.describe()"
   ]
  },
  {
   "cell_type": "code",
   "execution_count": 15,
   "metadata": {},
   "outputs": [
    {
     "data": {
      "text/plain": [
       "Text(0.5, 1.0, 'vppv分布 箱线图')"
      ]
     },
     "execution_count": 15,
     "metadata": {},
     "output_type": "execute_result"
    },
    {
     "data": {
      "image/png": "[encoded data removed]",
      "text/plain": [
       "<Figure size 432x288 with 1 Axes>"
      ]
     },
     "metadata": {
      "needs_background": "light"
     },
     "output_type": "display_data"
    }
   ],
   "source": [
    "plt.rcParams['font.sans-serif']=['SimHei']   # 用黑体显示中文\n",
    "plt.rcParams['axes.unicode_minus']=False     # 正常显示负号\n",
    "\n",
    "\n",
    "# 箱线图，异常值判断--不太符合业务场景，用户数据分布过于不均匀，非正态分布\n",
    "fig, ax = plt.subplots()\n",
    "\n",
    "normal_vppv_array=vppv_array[vppv_array<=45]\n",
    "# change outlier point symbols\n",
    "ax.boxplot(normal_vppv_array, 0, 'gD')\n",
    "ax.set_title('vppv分布 箱线图')"
   ]
  },
  {
   "cell_type": "code",
   "execution_count": 17,
   "metadata": {},
   "outputs": [
    {
     "data": {
      "image/png": "[encoded data removed]",
      "text/plain": [
       "<Figure size 432x288 with 1 Axes>"
      ]
     },
     "metadata": {
      "needs_background": "light"
     },
     "output_type": "display_data"
    }
   ],
   "source": [
    "# 查看vppv分布情况-直方图\n",
    "\n",
    "num_bins = 45\n",
    "mu = 4.1  # mean of distribution\n",
    "sigma = 5.2  # standard deviation of distribution\n",
    "\n",
    "fig, ax = plt.subplots()\n",
    "\n",
    "# the histogram of the data\n",
    "n, bins, patches = ax.hist(normal_vppv_array, num_bins, density=True)\n",
    "\n",
    "ax.set_xlabel('vppv')\n",
    "ax.set_ylabel('Probability density')\n",
    "ax.set_title(r'Histogram of vcpv: $\\mu=4.1$, $\\sigma=5.2$')\n",
    "\n",
    "# Tweak spacing to prevent clipping of ylabel\n",
    "fig.tight_layout()\n",
    "plt.show()"
   ]
  },
  {
   "cell_type": "markdown",
   "metadata": {},
   "source": [
    "## 3、再看二手房关注数的数据分布"
   ]
  },
  {
   "cell_type": "code",
   "execution_count": 18,
   "metadata": {},
   "outputs": [],
   "source": [
    "# 存放guanzhu_esf数据\n",
    "esfgz_array = np.array(esf_olduser_index.loc[:,'guanzhu_esf'])\n",
    "esfgz_not0_array = esfgz_array[esfgz_array>0]"
   ]
  },
  {
   "cell_type": "code",
   "execution_count": 19,
   "metadata": {},
   "outputs": [
    {
     "data": {
      "text/plain": [
       "array([ 1.,  1.,  1.,  2.,  2.,  3.,  4.,  6., 11., 37.])"
      ]
     },
     "execution_count": 19,
     "metadata": {},
     "output_type": "execute_result"
    }
   ],
   "source": [
    "# 存放guanzhu_esf百分位数,90%的数据都在5以下\n",
    "esfgz_not0_pct = np.array([np.percentile(esfgz_not0_array, 10)\n",
    "                       ,np.percentile(esfgz_not0_array, 20)\n",
    "                       ,np.percentile(esfgz_not0_array, 30)\n",
    "                       ,np.percentile(esfgz_not0_array, 40)\n",
    "                       ,np.percentile(esfgz_not0_array, 50)\n",
    "                       ,np.percentile(esfgz_not0_array, 60)\n",
    "                       ,np.percentile(esfgz_not0_array, 70)\n",
    "                       ,np.percentile(esfgz_not0_array, 80)\n",
    "                       ,np.percentile(esfgz_not0_array, 90)\n",
    "                       ,np.percentile(esfgz_not0_array, 99)])\n",
    "esfgz_not0_pct"
   ]
  },
  {
   "cell_type": "code",
   "execution_count": 21,
   "metadata": {},
   "outputs": [
    {
     "data": {
      "text/html": [
       "<div>\n",
       "<style scoped>\n",
       "    .dataframe tbody tr th:only-of-type {\n",
       "        vertical-align: middle;\n",
       "    }\n",
       "\n",
       "    .dataframe tbody tr th {\n",
       "        vertical-align: top;\n",
       "    }\n",
       "\n",
       "    .dataframe thead th {\n",
       "        text-align: right;\n",
       "    }\n",
       "</style>\n",
       "<table border=\"1\" class=\"dataframe\">\n",
       "  <thead>\n",
       "    <tr style=\"text-align: right;\">\n",
       "      <th></th>\n",
       "      <th>guanzhu_esf</th>\n",
       "    </tr>\n",
       "  </thead>\n",
       "  <tbody>\n",
       "    <tr>\n",
       "      <th>count</th>\n",
       "      <td>1.716927e+06</td>\n",
       "    </tr>\n",
       "    <tr>\n",
       "      <th>mean</th>\n",
       "      <td>1.457371e-02</td>\n",
       "    </tr>\n",
       "    <tr>\n",
       "      <th>std</th>\n",
       "      <td>2.715867e-01</td>\n",
       "    </tr>\n",
       "    <tr>\n",
       "      <th>min</th>\n",
       "      <td>0.000000e+00</td>\n",
       "    </tr>\n",
       "    <tr>\n",
       "      <th>25%</th>\n",
       "      <td>0.000000e+00</td>\n",
       "    </tr>\n",
       "    <tr>\n",
       "      <th>50%</th>\n",
       "      <td>0.000000e+00</td>\n",
       "    </tr>\n",
       "    <tr>\n",
       "      <th>75%</th>\n",
       "      <td>0.000000e+00</td>\n",
       "    </tr>\n",
       "    <tr>\n",
       "      <th>max</th>\n",
       "      <td>1.100000e+01</td>\n",
       "    </tr>\n",
       "  </tbody>\n",
       "</table>\n",
       "</div>"
      ],
      "text/plain": [
       "        guanzhu_esf\n",
       "count  1.716927e+06\n",
       "mean   1.457371e-02\n",
       "std    2.715867e-01\n",
       "min    0.000000e+00\n",
       "25%    0.000000e+00\n",
       "50%    0.000000e+00\n",
       "75%    0.000000e+00\n",
       "max    1.100000e+01"
      ]
     },
     "execution_count": 21,
     "metadata": {},
     "output_type": "execute_result"
    }
   ],
   "source": [
    "# 剔除极端值之后的esfgz统计值\n",
    "esfgz_df = pd.DataFrame(esf_olduser_index.loc[:,'guanzhu_esf'])\n",
    "norm_esfgz_df = esfgz_df[esfgz_df<=11]\n",
    "norm_esfgz_df.describe()"
   ]
  },
  {
   "cell_type": "code",
   "execution_count": 22,
   "metadata": {},
   "outputs": [
    {
     "data": {
      "text/plain": [
       "Text(0.5, 1.0, '关注数分布 箱线图')"
      ]
     },
     "execution_count": 22,
     "metadata": {},
     "output_type": "execute_result"
    },
    {
     "data": {
      "image/png": "[encoded data removed]",
      "text/plain": [
       "<Figure size 432x288 with 1 Axes>"
      ]
     },
     "metadata": {
      "needs_background": "light"
     },
     "output_type": "display_data"
    }
   ],
   "source": [
    "plt.rcParams['font.sans-serif']=['SimHei']   # 用黑体显示中文\n",
    "plt.rcParams['axes.unicode_minus']=False     # 正常显示负号\n",
    "\n",
    "\n",
    "# 箱线图，异常值判断--不太符合业务场景，用户数据分布过于不均匀，非正态分布\n",
    "fig, ax = plt.subplots()\n",
    "\n",
    "normal_esfgz_array=esfgz_array[esfgz_array<=11]\n",
    "# change outlier point symbols\n",
    "ax.boxplot(normal_esfgz_array, 0, 'gD')\n",
    "ax.set_title('关注数分布 箱线图')"
   ]
  },
  {
   "cell_type": "code",
   "execution_count": 23,
   "metadata": {},
   "outputs": [
    {
     "data": {
      "image/png": "[encoded data removed]",
      "text/plain": [
       "<Figure size 432x288 with 1 Axes>"
      ]
     },
     "metadata": {
      "needs_background": "light"
     },
     "output_type": "display_data"
    }
   ],
   "source": [
    "# 查看关注数分布情况-直方图\n",
    "\n",
    "num_bins = 15\n",
    "mu = 0.2  # mean of distribution\n",
    "sigma = 1.0  # standard deviation of distribution\n",
    "\n",
    "fig, ax = plt.subplots()\n",
    "\n",
    "# the histogram of the data\n",
    "n, bins, patches = ax.hist(normal_esfgz_array, num_bins, density=True)\n",
    "\n",
    "ax.set_xlabel('esf_guanzhu')\n",
    "ax.set_ylabel('Probability density')\n",
    "ax.set_title(r'Histogram of vcpv: $\\mu=0.2$, $\\sigma=1.0$')\n",
    "\n",
    "# Tweak spacing to prevent clipping of ylabel\n",
    "fig.tight_layout()\n",
    "plt.show()"
   ]
  },
  {
   "cell_type": "markdown",
   "metadata": {},
   "source": [
    "## 4、再看下二手房连接数分布"
   ]
  },
  {
   "cell_type": "code",
   "execution_count": 24,
   "metadata": {},
   "outputs": [],
   "source": [
    "# 存放连接数据\n",
    "esflj_array = np.array(esf_olduser_index.loc[:,'session_num_esf'])\n",
    "esflj_not0_array = esflj_array[esflj_array>0]"
   ]
  },
  {
   "cell_type": "code",
   "execution_count": 25,
   "metadata": {},
   "outputs": [
    {
     "data": {
      "text/plain": [
       "array([ 1.,  1.,  1.,  1.,  1.,  2.,  2.,  4.,  7., 58.])"
      ]
     },
     "execution_count": 25,
     "metadata": {},
     "output_type": "execute_result"
    }
   ],
   "source": [
    "# 存放连接百分位数,90%的数据都在20以下\n",
    "esflj_not0_pct = np.array([np.percentile(esflj_not0_array, 10)\n",
    "                       ,np.percentile(esflj_not0_array, 20)\n",
    "                       ,np.percentile(esflj_not0_array, 30)\n",
    "                       ,np.percentile(esflj_not0_array, 40)\n",
    "                       ,np.percentile(esflj_not0_array, 50)\n",
    "                       ,np.percentile(esflj_not0_array, 60)\n",
    "                       ,np.percentile(esflj_not0_array, 70)\n",
    "                       ,np.percentile(esflj_not0_array, 80)\n",
    "                       ,np.percentile(esflj_not0_array, 90)\n",
    "                       ,np.percentile(esflj_not0_array, 99)])\n",
    "esflj_not0_pct"
   ]
  },
  {
   "cell_type": "code",
   "execution_count": 26,
   "metadata": {},
   "outputs": [
    {
     "data": {
      "text/html": [
       "<div>\n",
       "<style scoped>\n",
       "    .dataframe tbody tr th:only-of-type {\n",
       "        vertical-align: middle;\n",
       "    }\n",
       "\n",
       "    .dataframe tbody tr th {\n",
       "        vertical-align: top;\n",
       "    }\n",
       "\n",
       "    .dataframe thead th {\n",
       "        text-align: right;\n",
       "    }\n",
       "</style>\n",
       "<table border=\"1\" class=\"dataframe\">\n",
       "  <thead>\n",
       "    <tr style=\"text-align: right;\">\n",
       "      <th></th>\n",
       "      <th>session_num_esf</th>\n",
       "    </tr>\n",
       "  </thead>\n",
       "  <tbody>\n",
       "    <tr>\n",
       "      <th>count</th>\n",
       "      <td>1.713733e+06</td>\n",
       "    </tr>\n",
       "    <tr>\n",
       "      <th>mean</th>\n",
       "      <td>3.913445e-02</td>\n",
       "    </tr>\n",
       "    <tr>\n",
       "      <th>std</th>\n",
       "      <td>3.304735e-01</td>\n",
       "    </tr>\n",
       "    <tr>\n",
       "      <th>min</th>\n",
       "      <td>0.000000e+00</td>\n",
       "    </tr>\n",
       "    <tr>\n",
       "      <th>25%</th>\n",
       "      <td>0.000000e+00</td>\n",
       "    </tr>\n",
       "    <tr>\n",
       "      <th>50%</th>\n",
       "      <td>0.000000e+00</td>\n",
       "    </tr>\n",
       "    <tr>\n",
       "      <th>75%</th>\n",
       "      <td>0.000000e+00</td>\n",
       "    </tr>\n",
       "    <tr>\n",
       "      <th>max</th>\n",
       "      <td>7.000000e+00</td>\n",
       "    </tr>\n",
       "  </tbody>\n",
       "</table>\n",
       "</div>"
      ],
      "text/plain": [
       "       session_num_esf\n",
       "count     1.713733e+06\n",
       "mean      3.913445e-02\n",
       "std       3.304735e-01\n",
       "min       0.000000e+00\n",
       "25%       0.000000e+00\n",
       "50%       0.000000e+00\n",
       "75%       0.000000e+00\n",
       "max       7.000000e+00"
      ]
     },
     "execution_count": 26,
     "metadata": {},
     "output_type": "execute_result"
    }
   ],
   "source": [
    "# 剔除异常值之后的连接数统计值\n",
    "\n",
    "xflj_df = pd.DataFrame(esf_olduser_index.loc[:,'session_num_esf'])\n",
    "norm_xflj_df = xflj_df[xflj_df<=7]\n",
    "norm_xflj_df.describe()"
   ]
  },
  {
   "cell_type": "code",
   "execution_count": 27,
   "metadata": {},
   "outputs": [
    {
     "data": {
      "text/plain": [
       "Text(0.5, 1.0, '新房连接数分布 箱线图')"
      ]
     },
     "execution_count": 27,
     "metadata": {},
     "output_type": "execute_result"
    },
    {
     "data": {
      "image/png": "[encoded data removed]",
      "text/plain": [
       "<Figure size 432x288 with 1 Axes>"
      ]
     },
     "metadata": {
      "needs_background": "light"
     },
     "output_type": "display_data"
    }
   ],
   "source": [
    "plt.rcParams['font.sans-serif']=['SimHei']   # 用黑体显示中文\n",
    "plt.rcParams['axes.unicode_minus']=False     # 正常显示负号\n",
    "\n",
    "\n",
    "# 箱线图，异常值判断--不太符合业务场景，用户数据分布过于不均匀，非正态分布\n",
    "fig, ax = plt.subplots()\n",
    "\n",
    "normal_esflj_array=esflj_array[esflj_array<=20]\n",
    "# change outlier point symbols\n",
    "ax.boxplot(normal_esflj_array, 0, 'gD')\n",
    "ax.set_title('新房连接数分布 箱线图')"
   ]
  },
  {
   "cell_type": "code",
   "execution_count": 29,
   "metadata": {},
   "outputs": [
    {
     "data": {
      "image/png": "[encoded data removed]",
      "text/plain": [
       "<Figure size 432x288 with 1 Axes>"
      ]
     },
     "metadata": {
      "needs_background": "light"
     },
     "output_type": "display_data"
    }
   ],
   "source": [
    "# 查看新房连接数分布情况-直方图\n",
    "\n",
    "num_bins = 10\n",
    "mu = 0.5  # mean of distribution\n",
    "sigma = 1.2  # standard deviation of distribution\n",
    "\n",
    "fig, ax = plt.subplots()\n",
    "\n",
    "# the histogram of the data\n",
    "n, bins, patches = ax.hist(normal_esflj_array, num_bins, density=True)\n",
    "\n",
    "ax.set_xlabel('session_num')\n",
    "ax.set_ylabel('Probability density')\n",
    "ax.set_title(r'Histogram of session_num: $\\mu=0.5$, $\\sigma=1.2$')\n",
    "\n",
    "# Tweak spacing to prevent clipping of ylabel\n",
    "fig.tight_layout()\n",
    "plt.show()"
   ]
  },
  {
   "cell_type": "markdown",
   "metadata": {},
   "source": [
    "## 4、再看二手房预约看房订单的数据分布"
   ]
  },
  {
   "cell_type": "code",
   "execution_count": 30,
   "metadata": {},
   "outputs": [],
   "source": [
    "# 存放takelook_order_esf数据\n",
    "esf_tk_array = np.array(esf_olduser_index.loc[:,'takelook_order_esf'])\n",
    "esftk_not0_array = esf_tk_array[esf_tk_array>0]"
   ]
  },
  {
   "cell_type": "code",
   "execution_count": 31,
   "metadata": {},
   "outputs": [
    {
     "data": {
      "text/plain": [
       "array([ 1.,  1.,  1.,  1.,  1.,  2.,  2.,  3.,  4., 14.])"
      ]
     },
     "execution_count": 31,
     "metadata": {},
     "output_type": "execute_result"
    }
   ],
   "source": [
    "# 存放takelook_order_esf百分位数,99%的数据都在5以下\n",
    "esftk_not0_pct = np.array([np.percentile(esftk_not0_array, 10)\n",
    "                       ,np.percentile(esftk_not0_array, 20)\n",
    "                       ,np.percentile(esftk_not0_array, 30)\n",
    "                       ,np.percentile(esftk_not0_array, 40)\n",
    "                       ,np.percentile(esftk_not0_array, 50)\n",
    "                       ,np.percentile(esftk_not0_array, 60)\n",
    "                       ,np.percentile(esftk_not0_array, 70)\n",
    "                       ,np.percentile(esftk_not0_array, 80)\n",
    "                       ,np.percentile(esftk_not0_array, 90)\n",
    "                       ,np.percentile(esftk_not0_array, 99)])\n",
    "esftk_not0_pct"
   ]
  },
  {
   "cell_type": "code",
   "execution_count": 32,
   "metadata": {},
   "outputs": [
    {
     "data": {
      "text/html": [
       "<div>\n",
       "<style scoped>\n",
       "    .dataframe tbody tr th:only-of-type {\n",
       "        vertical-align: middle;\n",
       "    }\n",
       "\n",
       "    .dataframe tbody tr th {\n",
       "        vertical-align: top;\n",
       "    }\n",
       "\n",
       "    .dataframe thead th {\n",
       "        text-align: right;\n",
       "    }\n",
       "</style>\n",
       "<table border=\"1\" class=\"dataframe\">\n",
       "  <thead>\n",
       "    <tr style=\"text-align: right;\">\n",
       "      <th></th>\n",
       "      <th>takelook_order_esf</th>\n",
       "    </tr>\n",
       "  </thead>\n",
       "  <tbody>\n",
       "    <tr>\n",
       "      <th>count</th>\n",
       "      <td>1.717698e+06</td>\n",
       "    </tr>\n",
       "    <tr>\n",
       "      <th>mean</th>\n",
       "      <td>1.242943e-03</td>\n",
       "    </tr>\n",
       "    <tr>\n",
       "      <th>std</th>\n",
       "      <td>5.086636e-02</td>\n",
       "    </tr>\n",
       "    <tr>\n",
       "      <th>min</th>\n",
       "      <td>0.000000e+00</td>\n",
       "    </tr>\n",
       "    <tr>\n",
       "      <th>25%</th>\n",
       "      <td>0.000000e+00</td>\n",
       "    </tr>\n",
       "    <tr>\n",
       "      <th>50%</th>\n",
       "      <td>0.000000e+00</td>\n",
       "    </tr>\n",
       "    <tr>\n",
       "      <th>75%</th>\n",
       "      <td>0.000000e+00</td>\n",
       "    </tr>\n",
       "    <tr>\n",
       "      <th>max</th>\n",
       "      <td>4.000000e+00</td>\n",
       "    </tr>\n",
       "  </tbody>\n",
       "</table>\n",
       "</div>"
      ],
      "text/plain": [
       "       takelook_order_esf\n",
       "count        1.717698e+06\n",
       "mean         1.242943e-03\n",
       "std          5.086636e-02\n",
       "min          0.000000e+00\n",
       "25%          0.000000e+00\n",
       "50%          0.000000e+00\n",
       "75%          0.000000e+00\n",
       "max          4.000000e+00"
      ]
     },
     "execution_count": 32,
     "metadata": {},
     "output_type": "execute_result"
    }
   ],
   "source": [
    "# 剔除异常值之后的二手房看房订单数统计值\n",
    "\n",
    "esftk_df = pd.DataFrame(esf_olduser_index.loc[:,'takelook_order_esf'])\n",
    "norm_esftk_df = esftk_df[esftk_df<=4]\n",
    "norm_esftk_df.describe()"
   ]
  },
  {
   "cell_type": "code",
   "execution_count": 34,
   "metadata": {},
   "outputs": [
    {
     "data": {
      "text/plain": [
       "Text(0.5, 1.0, '新房连接数分布 箱线图')"
      ]
     },
     "execution_count": 34,
     "metadata": {},
     "output_type": "execute_result"
    },
    {
     "data": {
      "image/png": "[encoded data removed]",
      "text/plain": [
       "<Figure size 432x288 with 1 Axes>"
      ]
     },
     "metadata": {
      "needs_background": "light"
     },
     "output_type": "display_data"
    }
   ],
   "source": [
    "plt.rcParams['font.sans-serif']=['SimHei']   # 用黑体显示中文\n",
    "plt.rcParams['axes.unicode_minus']=False     # 正常显示负号\n",
    "\n",
    "\n",
    "# 箱线图，异常值判断--不太符合业务场景，用户数据分布过于不均匀，非正态分布\n",
    "fig, ax = plt.subplots()\n",
    "\n",
    "normal_esftk_array=esf_tk_array[esf_tk_array<=4]\n",
    "# change outlier point symbols\n",
    "ax.boxplot(normal_esftk_array, 0, 'gD')\n",
    "ax.set_title('新房连接数分布 箱线图')"
   ]
  },
  {
   "cell_type": "code",
   "execution_count": 35,
   "metadata": {},
   "outputs": [
    {
     "data": {
      "image/png": "[encoded data removed]",
      "text/plain": [
       "<Figure size 432x288 with 1 Axes>"
      ]
     },
     "metadata": {
      "needs_background": "light"
     },
     "output_type": "display_data"
    }
   ],
   "source": [
    "# 查看二手房看房订单分布情况-直方图\n",
    "\n",
    "num_bins = 10\n",
    "mu = 0.6  # mean of distribution\n",
    "sigma = 0.7  # standard deviation of distribution\n",
    "\n",
    "fig, ax = plt.subplots()\n",
    "\n",
    "# the histogram of the data\n",
    "n, bins, patches = ax.hist(normal_esftk_array, num_bins, density=True)\n",
    "\n",
    "ax.set_xlabel('takelook_order')\n",
    "ax.set_ylabel('Probability density')\n",
    "ax.set_title(r'Histogram of session_num: $\\mu=0.6$, $\\sigma=0.7$')\n",
    "\n",
    "# Tweak spacing to prevent clipping of ylabel\n",
    "fig.tight_layout()\n",
    "plt.show()\n"
   ]
  },
  {
   "cell_type": "code",
   "execution_count": 36,
   "metadata": {},
   "outputs": [
    {
     "data": {
      "text/html": [
       "<div>\n",
       "<style scoped>\n",
       "    .dataframe tbody tr th:only-of-type {\n",
       "        vertical-align: middle;\n",
       "    }\n",
       "\n",
       "    .dataframe tbody tr th {\n",
       "        vertical-align: top;\n",
       "    }\n",
       "\n",
       "    .dataframe thead th {\n",
       "        text-align: right;\n",
       "    }\n",
       "</style>\n",
       "<table border=\"1\" class=\"dataframe\">\n",
       "  <thead>\n",
       "    <tr style=\"text-align: right;\">\n",
       "      <th></th>\n",
       "      <th>cal_dt</th>\n",
       "      <th>muid</th>\n",
       "      <th>imei_md5</th>\n",
       "      <th>oaid</th>\n",
       "      <th>origin_imei</th>\n",
       "      <th>os_type</th>\n",
       "      <th>vppv_esf</th>\n",
       "      <th>session_num_esf</th>\n",
       "      <th>guanzhu_esf</th>\n",
       "      <th>takelook_order_esf</th>\n",
       "      <th>vppv_esf_score</th>\n",
       "      <th>session_esf_score</th>\n",
       "      <th>guanzhu_esf_score</th>\n",
       "      <th>takelook_esf_score</th>\n",
       "      <th>total_score</th>\n",
       "    </tr>\n",
       "  </thead>\n",
       "  <tbody>\n",
       "    <tr>\n",
       "      <th>0</th>\n",
       "      <td>2021-05-22</td>\n",
       "      <td>a-ajk,001f09fb6b669ac8,</td>\n",
       "      <td>001f09fb6b669ac8</td>\n",
       "      <td>f8e7ffbf-e657-1a51-ff7f-df6edfdf8325</td>\n",
       "      <td>NaN</td>\n",
       "      <td>android</td>\n",
       "      <td>0</td>\n",
       "      <td>0</td>\n",
       "      <td>0</td>\n",
       "      <td>0</td>\n",
       "      <td>0</td>\n",
       "      <td>0</td>\n",
       "      <td>0</td>\n",
       "      <td>0</td>\n",
       "      <td>0.0</td>\n",
       "    </tr>\n",
       "    <tr>\n",
       "      <th>1</th>\n",
       "      <td>2021-05-22</td>\n",
       "      <td>a-ajk,0055a4f1be12f100,0055a4f1be12f100</td>\n",
       "      <td>0055a4f1be12f100</td>\n",
       "      <td>4e8afcdf-b5d4-b130-fdf7-3ed6ffceeaf3</td>\n",
       "      <td>NaN</td>\n",
       "      <td>android</td>\n",
       "      <td>0</td>\n",
       "      <td>0</td>\n",
       "      <td>0</td>\n",
       "      <td>0</td>\n",
       "      <td>0</td>\n",
       "      <td>0</td>\n",
       "      <td>0</td>\n",
       "      <td>0</td>\n",
       "      <td>0.0</td>\n",
       "    </tr>\n",
       "    <tr>\n",
       "      <th>2</th>\n",
       "      <td>2021-05-22</td>\n",
       "      <td>a-ajk,005d1640ec6b5a48,005d1640ec6b5a48</td>\n",
       "      <td>005d1640ec6b5a48</td>\n",
       "      <td>acc809280987bef6</td>\n",
       "      <td>99001405868302</td>\n",
       "      <td>android</td>\n",
       "      <td>0</td>\n",
       "      <td>0</td>\n",
       "      <td>0</td>\n",
       "      <td>0</td>\n",
       "      <td>0</td>\n",
       "      <td>0</td>\n",
       "      <td>0</td>\n",
       "      <td>0</td>\n",
       "      <td>0.0</td>\n",
       "    </tr>\n",
       "    <tr>\n",
       "      <th>3</th>\n",
       "      <td>2021-05-22</td>\n",
       "      <td>a-ajk,008e48c80730ebd2,008e48c80730ebd2</td>\n",
       "      <td>008e48c80730ebd2</td>\n",
       "      <td>83793721c360dd597019cf8ea6b14d21cdb37317e4e87b...</td>\n",
       "      <td>NaN</td>\n",
       "      <td>android</td>\n",
       "      <td>0</td>\n",
       "      <td>0</td>\n",
       "      <td>0</td>\n",
       "      <td>0</td>\n",
       "      <td>0</td>\n",
       "      <td>0</td>\n",
       "      <td>0</td>\n",
       "      <td>0</td>\n",
       "      <td>0.0</td>\n",
       "    </tr>\n",
       "    <tr>\n",
       "      <th>4</th>\n",
       "      <td>2021-05-22</td>\n",
       "      <td>a-ajk,00d21da7a7790754,</td>\n",
       "      <td>00d21da7a7790754</td>\n",
       "      <td>f5beafaf-ffff-700f-fbfd-bf7f95fce1e4</td>\n",
       "      <td>868400046549237</td>\n",
       "      <td>android</td>\n",
       "      <td>0</td>\n",
       "      <td>0</td>\n",
       "      <td>0</td>\n",
       "      <td>0</td>\n",
       "      <td>0</td>\n",
       "      <td>0</td>\n",
       "      <td>0</td>\n",
       "      <td>0</td>\n",
       "      <td>0.0</td>\n",
       "    </tr>\n",
       "  </tbody>\n",
       "</table>\n",
       "</div>"
      ],
      "text/plain": [
       "       cal_dt                                     muid          imei_md5  \\\n",
       "0  2021-05-22                  a-ajk,001f09fb6b669ac8,  001f09fb6b669ac8   \n",
       "1  2021-05-22  a-ajk,0055a4f1be12f100,0055a4f1be12f100  0055a4f1be12f100   \n",
       "2  2021-05-22  a-ajk,005d1640ec6b5a48,005d1640ec6b5a48  005d1640ec6b5a48   \n",
       "3  2021-05-22  a-ajk,008e48c80730ebd2,008e48c80730ebd2  008e48c80730ebd2   \n",
       "4  2021-05-22                  a-ajk,00d21da7a7790754,  00d21da7a7790754   \n",
       "\n",
       "                                                oaid      origin_imei  \\\n",
       "0               f8e7ffbf-e657-1a51-ff7f-df6edfdf8325              NaN   \n",
       "1               4e8afcdf-b5d4-b130-fdf7-3ed6ffceeaf3              NaN   \n",
       "2                                   acc809280987bef6   99001405868302   \n",
       "3  83793721c360dd597019cf8ea6b14d21cdb37317e4e87b...              NaN   \n",
       "4               f5beafaf-ffff-700f-fbfd-bf7f95fce1e4  868400046549237   \n",
       "\n",
       "   os_type  vppv_esf  session_num_esf  guanzhu_esf  takelook_order_esf  \\\n",
       "0  android         0                0            0                   0   \n",
       "1  android         0                0            0                   0   \n",
       "2  android         0                0            0                   0   \n",
       "3  android         0                0            0                   0   \n",
       "4  android         0                0            0                   0   \n",
       "\n",
       "   vppv_esf_score  session_esf_score  guanzhu_esf_score  takelook_esf_score  \\\n",
       "0               0                  0                  0                   0   \n",
       "1               0                  0                  0                   0   \n",
       "2               0                  0                  0                   0   \n",
       "3               0                  0                  0                   0   \n",
       "4               0                  0                  0                   0   \n",
       "\n",
       "   total_score  \n",
       "0          0.0  \n",
       "1          0.0  \n",
       "2          0.0  \n",
       "3          0.0  \n",
       "4          0.0  "
      ]
     },
     "execution_count": 36,
     "metadata": {},
     "output_type": "execute_result"
    }
   ],
   "source": [
    "# 读取数据\n",
    "esf_score = pd.read_table('./files/esf_score.txt')\n",
    "esf_score.head()"
   ]
  },
  {
   "cell_type": "code",
   "execution_count": 37,
   "metadata": {},
   "outputs": [],
   "source": [
    "# 存放总分数据\n",
    "total_score_array = np.array(esf_score.loc[:,'total_score'])\n",
    "total_score_not0_array = total_score_array[total_score_array>0]"
   ]
  },
  {
   "cell_type": "code",
   "execution_count": 38,
   "metadata": {},
   "outputs": [
    {
     "data": {
      "text/plain": [
       "array([0.4, 0.4, 0.4, 0.4, 0.4, 0.8, 0.8, 1.6, 4. , 5.8])"
      ]
     },
     "execution_count": 38,
     "metadata": {},
     "output_type": "execute_result"
    }
   ],
   "source": [
    "# 存放total_score百分位数,99%的数据都在5以下\n",
    "total_score_not0_pct = np.array([np.percentile(total_score_not0_array, 10)\n",
    "                       ,np.percentile(total_score_not0_array, 20)\n",
    "                       ,np.percentile(total_score_not0_array, 30)\n",
    "                       ,np.percentile(total_score_not0_array, 40)\n",
    "                       ,np.percentile(total_score_not0_array, 50)\n",
    "                       ,np.percentile(total_score_not0_array, 60)\n",
    "                       ,np.percentile(total_score_not0_array, 70)\n",
    "                       ,np.percentile(total_score_not0_array, 80)\n",
    "                       ,np.percentile(total_score_not0_array, 90)\n",
    "                       ,np.percentile(total_score_not0_array, 99)])\n",
    "total_score_not0_pct"
   ]
  },
  {
   "cell_type": "code",
   "execution_count": 40,
   "metadata": {},
   "outputs": [
    {
     "data": {
      "image/png": "[encoded data removed]",
      "text/plain": [
       "<Figure size 432x288 with 1 Axes>"
      ]
     },
     "metadata": {
      "needs_background": "light"
     },
     "output_type": "display_data"
    }
   ],
   "source": [
    "# 查看二手房看房订单分布情况-直方图\n",
    "\n",
    "num_bins = 10\n",
    "# mu = 0.6  # mean of distribution\n",
    "# sigma = 0.7  # standard deviation of distribution\n",
    "\n",
    "fig, ax = plt.subplots()\n",
    "\n",
    "# the histogram of the data\n",
    "n, bins, patches = ax.hist(total_score_array[total_score_array>0], num_bins, density=True)\n",
    "\n",
    "ax.set_xlabel('takelook_order')\n",
    "ax.set_ylabel('Probability density')\n",
    "# ax.set_title(r'Histogram of session_num: $\\mu=0.6$, $\\sigma=0.7$')\n",
    "\n",
    "# Tweak spacing to prevent clipping of ylabel\n",
    "fig.tight_layout()\n",
    "plt.show()"
   ]
  },
  {
   "cell_type": "code",
   "execution_count": null,
   "metadata": {},
   "outputs": [],
   "source": []
  }
 ],
 "metadata": {
  "kernelspec": {
   "display_name": "Python 3",
   "language": "python",
   "name": "python3"
  },
  "language_info": {
   "codemirror_mode": {
    "name": "ipython",
    "version": 3
   },
   "file_extension": ".py",
   "mimetype": "text/x-python",
   "name": "python",
   "nbconvert_exporter": "python",
   "pygments_lexer": "ipython3",
   "version": "3.8.5"
  }
 },
 "nbformat": 4,
 "nbformat_minor": 4
}
